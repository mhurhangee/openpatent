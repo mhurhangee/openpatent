{
 "cells": [
  {
   "cell_type": "markdown",
   "id": "d6b24939-5a0b-4a1d-bde1-f22f300ebfe2",
   "metadata": {},
   "source": [
    "# Exact Dedup"
   ]
  },
  {
   "cell_type": "code",
   "execution_count": 2,
   "id": "3ca796cd-9e76-43fe-9c92-b098c6a1f703",
   "metadata": {},
   "outputs": [
    {
     "name": "stdout",
     "output_type": "stream",
     "text": [
      "Original number of documents: 74002\n",
      "Number of duplicate claim1 texts: 16\n",
      "Total duplicate instances removed: 16\n",
      "Number of documents after exact claim1 deduplication: 73986\n"
     ]
    }
   ],
   "source": [
    "import json\n",
    "from collections import Counter\n",
    "\n",
    "input_file = \"coarse_cleaned_patents_filtered.jsonl\"\n",
    "output_file_dedup = \"coarse_cleaned_patents_filtered_dedup.jsonl\"\n",
    "\n",
    "# load all records\n",
    "records = []\n",
    "with open(input_file, \"r\", encoding=\"utf-8\") as f:\n",
    "    for line in f:\n",
    "        records.append(json.loads(line))\n",
    "\n",
    "print(f\"Original number of documents: {len(records)}\")\n",
    "\n",
    "# Count exact duplicates based on claim1 text\n",
    "claim_texts = [r.get(\"claim1\",\"\").strip() for r in records]\n",
    "counter = Counter(claim_texts)\n",
    "\n",
    "# Identify duplicates (more than 1 occurrence)\n",
    "duplicates = {text for text, count in counter.items() if count > 1}\n",
    "num_duplicates = sum(counter[text] - 1 for text in duplicates)\n",
    "print(f\"Number of duplicate claim1 texts: {len(duplicates)}\")\n",
    "print(f\"Total duplicate instances removed: {num_duplicates}\")\n",
    "\n",
    "# Keep only first occurrence of each claim1 text\n",
    "seen = set()\n",
    "filtered_records = []\n",
    "for r in records:\n",
    "    claim_text = r.get(\"claim1\",\"\").strip()\n",
    "    if claim_text not in seen:\n",
    "        filtered_records.append(r)\n",
    "        seen.add(claim_text)\n",
    "\n",
    "print(f\"Number of documents after exact claim1 deduplication: {len(filtered_records)}\")\n",
    "\n",
    "# Save filtered JSONL\n",
    "with open(output_file_dedup, \"w\", encoding=\"utf-8\") as f_out:\n",
    "    for r in filtered_records:\n",
    "        f_out.write(json.dumps(r, ensure_ascii=False) + \"\\n\")\n"
   ]
  },
  {
   "cell_type": "code",
   "execution_count": 3,
   "id": "49ab19dd-01c5-4db1-a359-0b7df299f237",
   "metadata": {},
   "outputs": [
    {
     "name": "stdout",
     "output_type": "stream",
     "text": [
      "Original number of documents: 74002\n",
      "Claim1 duplicates found: 16, total duplicate instances: 16\n",
      "Documents after claim1 deduplication: 73986\n",
      "Description duplicates found: 0, total duplicate instances: 0\n",
      "Documents after description deduplication: 73986\n"
     ]
    }
   ],
   "source": [
    "import json\n",
    "from collections import Counter\n",
    "\n",
    "input_file = \"coarse_cleaned_patents_filtered.jsonl\"\n",
    "output_file_dedup = \"coarse_cleaned_patents_filtered_dedup.jsonl\"\n",
    "\n",
    "# load all records\n",
    "records = []\n",
    "with open(input_file, \"r\", encoding=\"utf-8\") as f:\n",
    "    for line in f:\n",
    "        records.append(json.loads(line))\n",
    "\n",
    "print(f\"Original number of documents: {len(records)}\")\n",
    "\n",
    "# --- Dedup on claim1 ---\n",
    "claim_texts = [r.get(\"claim1\",\"\").strip() for r in records]\n",
    "claim_counter = Counter(claim_texts)\n",
    "duplicates_claim = {text for text, count in claim_counter.items() if count > 1}\n",
    "num_duplicates_claim = sum(claim_counter[text]-1 for text in duplicates_claim)\n",
    "print(f\"Claim1 duplicates found: {len(duplicates_claim)}, total duplicate instances: {num_duplicates_claim}\")\n",
    "\n",
    "# keep only first occurrence of each claim1\n",
    "seen_claims = set()\n",
    "records_claim_dedup = []\n",
    "for r in records:\n",
    "    ctext = r.get(\"claim1\",\"\").strip()\n",
    "    if ctext not in seen_claims:\n",
    "        records_claim_dedup.append(r)\n",
    "        seen_claims.add(ctext)\n",
    "\n",
    "print(f\"Documents after claim1 deduplication: {len(records_claim_dedup)}\")\n",
    "\n",
    "# --- Dedup on description ---\n",
    "desc_texts = [r.get(\"description\",\"\").strip() for r in records_claim_dedup]\n",
    "desc_counter = Counter(desc_texts)\n",
    "duplicates_desc = {text for text, count in desc_counter.items() if count > 1}\n",
    "num_duplicates_desc = sum(desc_counter[text]-1 for text in duplicates_desc)\n",
    "print(f\"Description duplicates found: {len(duplicates_desc)}, total duplicate instances: {num_duplicates_desc}\")\n",
    "\n",
    "# keep only first occurrence of each description\n",
    "seen_descs = set()\n",
    "records_final = []\n",
    "for r in records_claim_dedup:\n",
    "    dtext = r.get(\"description\",\"\").strip()\n",
    "    if dtext not in seen_descs:\n",
    "        records_final.append(r)\n",
    "        seen_descs.add(dtext)\n",
    "\n",
    "print(f\"Documents after description deduplication: {len(records_final)}\")\n",
    "\n",
    "# Save filtered JSONL\n",
    "with open(output_file_dedup, \"w\", encoding=\"utf-8\") as f_out:\n",
    "    for r in records_final:\n",
    "        f_out.write(json.dumps(r, ensure_ascii=False) + \"\\n\")\n"
   ]
  },
  {
   "cell_type": "code",
   "execution_count": 4,
   "id": "8d4ff1b3-acb9-41a9-bd55-eb6c0a913e27",
   "metadata": {},
   "outputs": [
    {
     "data": {
      "application/vnd.jupyter.widget-view+json": {
       "model_id": "feebf6a06af245729571790f8621c8f7",
       "version_major": 2,
       "version_minor": 0
      },
      "text/plain": [
       "Generating train split: 0 examples [00:00, ? examples/s]"
      ]
     },
     "metadata": {},
     "output_type": "display_data"
    },
    {
     "data": {
      "application/vnd.jupyter.widget-view+json": {
       "model_id": "026d68b3742745d4ab455d512174531a",
       "version_major": 2,
       "version_minor": 0
      },
      "text/plain": [
       "Uploading the dataset shards:   0%|          | 0/8 [00:00<?, ? shards/s]"
      ]
     },
     "metadata": {},
     "output_type": "display_data"
    },
    {
     "data": {
      "application/vnd.jupyter.widget-view+json": {
       "model_id": "fd0f1c5569734733ab34fab9b5968f83",
       "version_major": 2,
       "version_minor": 0
      },
      "text/plain": [
       "Creating parquet from Arrow format:   0%|          | 0/10 [00:00<?, ?ba/s]"
      ]
     },
     "metadata": {},
     "output_type": "display_data"
    },
    {
     "data": {
      "application/vnd.jupyter.widget-view+json": {
       "model_id": "7bf5044a7a164b66bd66314b3a63e4c8",
       "version_major": 2,
       "version_minor": 0
      },
      "text/plain": [
       "Processing Files (0 / 0)                : |          |  0.00B /  0.00B            "
      ]
     },
     "metadata": {},
     "output_type": "display_data"
    },
    {
     "data": {
      "application/vnd.jupyter.widget-view+json": {
       "model_id": "ddeec62982f84501bdd61a6b5b4046f2",
       "version_major": 2,
       "version_minor": 0
      },
      "text/plain": [
       "New Data Upload                         : |          |  0.00B /  0.00B            "
      ]
     },
     "metadata": {},
     "output_type": "display_data"
    },
    {
     "data": {
      "application/vnd.jupyter.widget-view+json": {
       "model_id": "a17e6bcf1cd847fca6580444f358b9a0",
       "version_major": 2,
       "version_minor": 0
      },
      "text/plain": [
       "                                        :  52%|#####2    | 83.9MB /  161MB            "
      ]
     },
     "metadata": {},
     "output_type": "display_data"
    },
    {
     "data": {
      "application/vnd.jupyter.widget-view+json": {
       "model_id": "f29cbd3ba104465dabb2918a23d58a89",
       "version_major": 2,
       "version_minor": 0
      },
      "text/plain": [
       "Creating parquet from Arrow format:   0%|          | 0/10 [00:00<?, ?ba/s]"
      ]
     },
     "metadata": {},
     "output_type": "display_data"
    },
    {
     "data": {
      "application/vnd.jupyter.widget-view+json": {
       "model_id": "b95a31f4ea6d4c6183d18826c106720f",
       "version_major": 2,
       "version_minor": 0
      },
      "text/plain": [
       "Processing Files (0 / 0)                : |          |  0.00B /  0.00B            "
      ]
     },
     "metadata": {},
     "output_type": "display_data"
    },
    {
     "data": {
      "application/vnd.jupyter.widget-view+json": {
       "model_id": "11077c182aef47009f6dba66822b7b4a",
       "version_major": 2,
       "version_minor": 0
      },
      "text/plain": [
       "New Data Upload                         : |          |  0.00B /  0.00B            "
      ]
     },
     "metadata": {},
     "output_type": "display_data"
    },
    {
     "data": {
      "application/vnd.jupyter.widget-view+json": {
       "model_id": "c4d87a9b247544a6974110d323790a82",
       "version_major": 2,
       "version_minor": 0
      },
      "text/plain": [
       "                                        :  29%|##8       | 45.5MB /  159MB            "
      ]
     },
     "metadata": {},
     "output_type": "display_data"
    },
    {
     "data": {
      "application/vnd.jupyter.widget-view+json": {
       "model_id": "7ece085660c841fc9c7e5cef02ca37c4",
       "version_major": 2,
       "version_minor": 0
      },
      "text/plain": [
       "Creating parquet from Arrow format:   0%|          | 0/10 [00:00<?, ?ba/s]"
      ]
     },
     "metadata": {},
     "output_type": "display_data"
    },
    {
     "data": {
      "application/vnd.jupyter.widget-view+json": {
       "model_id": "f28e4012f1e64ca880e0a616badeed07",
       "version_major": 2,
       "version_minor": 0
      },
      "text/plain": [
       "Processing Files (0 / 0)                : |          |  0.00B /  0.00B            "
      ]
     },
     "metadata": {},
     "output_type": "display_data"
    },
    {
     "data": {
      "application/vnd.jupyter.widget-view+json": {
       "model_id": "04014128593249dd9f2b1675685bba38",
       "version_major": 2,
       "version_minor": 0
      },
      "text/plain": [
       "New Data Upload                         : |          |  0.00B /  0.00B            "
      ]
     },
     "metadata": {},
     "output_type": "display_data"
    },
    {
     "data": {
      "application/vnd.jupyter.widget-view+json": {
       "model_id": "e0596f92a295473197cea57965c47b84",
       "version_major": 2,
       "version_minor": 0
      },
      "text/plain": [
       "                                        :   2%|2         | 3.67MB /  162MB            "
      ]
     },
     "metadata": {},
     "output_type": "display_data"
    },
    {
     "data": {
      "application/vnd.jupyter.widget-view+json": {
       "model_id": "8f7e7c2b32c248eb968fbfc9dc5b9c7e",
       "version_major": 2,
       "version_minor": 0
      },
      "text/plain": [
       "Creating parquet from Arrow format:   0%|          | 0/10 [00:00<?, ?ba/s]"
      ]
     },
     "metadata": {},
     "output_type": "display_data"
    },
    {
     "data": {
      "application/vnd.jupyter.widget-view+json": {
       "model_id": "f39475fb49b84d3781f22a1748a4f9db",
       "version_major": 2,
       "version_minor": 0
      },
      "text/plain": [
       "Processing Files (0 / 0)                : |          |  0.00B /  0.00B            "
      ]
     },
     "metadata": {},
     "output_type": "display_data"
    },
    {
     "data": {
      "application/vnd.jupyter.widget-view+json": {
       "model_id": "a0e3914782734ba58c1bdbab1c5a067b",
       "version_major": 2,
       "version_minor": 0
      },
      "text/plain": [
       "New Data Upload                         : |          |  0.00B /  0.00B            "
      ]
     },
     "metadata": {},
     "output_type": "display_data"
    },
    {
     "data": {
      "application/vnd.jupyter.widget-view+json": {
       "model_id": "0ec241df06734ebb83e4008ebdf08018",
       "version_major": 2,
       "version_minor": 0
      },
      "text/plain": [
       "                                        :   2%|2         | 3.67MB /  162MB            "
      ]
     },
     "metadata": {},
     "output_type": "display_data"
    },
    {
     "data": {
      "application/vnd.jupyter.widget-view+json": {
       "model_id": "630f5245bcca4825aa1df90d266792c0",
       "version_major": 2,
       "version_minor": 0
      },
      "text/plain": [
       "Creating parquet from Arrow format:   0%|          | 0/10 [00:00<?, ?ba/s]"
      ]
     },
     "metadata": {},
     "output_type": "display_data"
    },
    {
     "data": {
      "application/vnd.jupyter.widget-view+json": {
       "model_id": "6da0b21bb7d3469a9710d5eff0993180",
       "version_major": 2,
       "version_minor": 0
      },
      "text/plain": [
       "Processing Files (0 / 0)                : |          |  0.00B /  0.00B            "
      ]
     },
     "metadata": {},
     "output_type": "display_data"
    },
    {
     "data": {
      "application/vnd.jupyter.widget-view+json": {
       "model_id": "00d28caa300041b99b69fdc7e19b830e",
       "version_major": 2,
       "version_minor": 0
      },
      "text/plain": [
       "New Data Upload                         : |          |  0.00B /  0.00B            "
      ]
     },
     "metadata": {},
     "output_type": "display_data"
    },
    {
     "data": {
      "application/vnd.jupyter.widget-view+json": {
       "model_id": "ad404686d7f54847a1131690be05ba73",
       "version_major": 2,
       "version_minor": 0
      },
      "text/plain": [
       "                                        :   2%|2         | 3.67MB /  159MB            "
      ]
     },
     "metadata": {},
     "output_type": "display_data"
    },
    {
     "data": {
      "application/vnd.jupyter.widget-view+json": {
       "model_id": "2a002f3bfcd54701933ae05c5f160972",
       "version_major": 2,
       "version_minor": 0
      },
      "text/plain": [
       "Creating parquet from Arrow format:   0%|          | 0/10 [00:00<?, ?ba/s]"
      ]
     },
     "metadata": {},
     "output_type": "display_data"
    },
    {
     "data": {
      "application/vnd.jupyter.widget-view+json": {
       "model_id": "a19294ee9dd04d8bb7ce1aeac5670e3d",
       "version_major": 2,
       "version_minor": 0
      },
      "text/plain": [
       "Processing Files (0 / 0)                : |          |  0.00B /  0.00B            "
      ]
     },
     "metadata": {},
     "output_type": "display_data"
    },
    {
     "data": {
      "application/vnd.jupyter.widget-view+json": {
       "model_id": "fb8f1863375545fe9f0e3000dae67d7c",
       "version_major": 2,
       "version_minor": 0
      },
      "text/plain": [
       "New Data Upload                         : |          |  0.00B /  0.00B            "
      ]
     },
     "metadata": {},
     "output_type": "display_data"
    },
    {
     "data": {
      "application/vnd.jupyter.widget-view+json": {
       "model_id": "565959b1d3dd4d3e8eaa6a7e040ceedc",
       "version_major": 2,
       "version_minor": 0
      },
      "text/plain": [
       "                                        :   2%|2         | 3.73MB /  159MB            "
      ]
     },
     "metadata": {},
     "output_type": "display_data"
    },
    {
     "data": {
      "application/vnd.jupyter.widget-view+json": {
       "model_id": "6d35874f82c04a6a8f0a4c82d5ccc626",
       "version_major": 2,
       "version_minor": 0
      },
      "text/plain": [
       "Creating parquet from Arrow format:   0%|          | 0/10 [00:00<?, ?ba/s]"
      ]
     },
     "metadata": {},
     "output_type": "display_data"
    },
    {
     "data": {
      "application/vnd.jupyter.widget-view+json": {
       "model_id": "f703e3ac236b40c3b2175ff4a239e091",
       "version_major": 2,
       "version_minor": 0
      },
      "text/plain": [
       "Processing Files (0 / 0)                : |          |  0.00B /  0.00B            "
      ]
     },
     "metadata": {},
     "output_type": "display_data"
    },
    {
     "data": {
      "application/vnd.jupyter.widget-view+json": {
       "model_id": "0c52690f665e4282b556797f969d23dc",
       "version_major": 2,
       "version_minor": 0
      },
      "text/plain": [
       "New Data Upload                         : |          |  0.00B /  0.00B            "
      ]
     },
     "metadata": {},
     "output_type": "display_data"
    },
    {
     "data": {
      "application/vnd.jupyter.widget-view+json": {
       "model_id": "bd690dd8cfa7425b893e3ab8ead51fa9",
       "version_major": 2,
       "version_minor": 0
      },
      "text/plain": [
       "                                        :   2%|2         | 3.67MB /  161MB            "
      ]
     },
     "metadata": {},
     "output_type": "display_data"
    },
    {
     "data": {
      "application/vnd.jupyter.widget-view+json": {
       "model_id": "5b8c19eb40444402a9e73e476abc1be9",
       "version_major": 2,
       "version_minor": 0
      },
      "text/plain": [
       "Creating parquet from Arrow format:   0%|          | 0/10 [00:00<?, ?ba/s]"
      ]
     },
     "metadata": {},
     "output_type": "display_data"
    },
    {
     "data": {
      "application/vnd.jupyter.widget-view+json": {
       "model_id": "c7289d7c93004e0a931cc2bc941f54be",
       "version_major": 2,
       "version_minor": 0
      },
      "text/plain": [
       "Processing Files (0 / 0)                : |          |  0.00B /  0.00B            "
      ]
     },
     "metadata": {},
     "output_type": "display_data"
    },
    {
     "data": {
      "application/vnd.jupyter.widget-view+json": {
       "model_id": "db9813222c964e6c97594c2087914c53",
       "version_major": 2,
       "version_minor": 0
      },
      "text/plain": [
       "New Data Upload                         : |          |  0.00B /  0.00B            "
      ]
     },
     "metadata": {},
     "output_type": "display_data"
    },
    {
     "data": {
      "application/vnd.jupyter.widget-view+json": {
       "model_id": "af0722fbf9714f35b98c2659c3d3b314",
       "version_major": 2,
       "version_minor": 0
      },
      "text/plain": [
       "                                        :   2%|2         | 3.67MB /  162MB            "
      ]
     },
     "metadata": {},
     "output_type": "display_data"
    },
    {
     "data": {
      "application/vnd.jupyter.widget-view+json": {
       "model_id": "2354bc775e214ffaab27c951bbce54b0",
       "version_major": 2,
       "version_minor": 0
      },
      "text/plain": [
       "README.md: 0.00B [00:00, ?B/s]"
      ]
     },
     "metadata": {},
     "output_type": "display_data"
    },
    {
     "data": {
      "text/plain": [
       "CommitInfo(commit_url='https://huggingface.co/datasets/mhurhangee/ep-patents-coarse-cleaned/commit/8b7987e97173685207775b2871954dd76cebe5dd', commit_message='with exact deduping', commit_description='', oid='8b7987e97173685207775b2871954dd76cebe5dd', pr_url=None, repo_url=RepoUrl('https://huggingface.co/datasets/mhurhangee/ep-patents-coarse-cleaned', endpoint='https://huggingface.co', repo_type='dataset', repo_id='mhurhangee/ep-patents-coarse-cleaned'), pr_revision=None, pr_num=None)"
      ]
     },
     "execution_count": 4,
     "metadata": {},
     "output_type": "execute_result"
    }
   ],
   "source": [
    "from datasets import load_dataset\n",
    "\n",
    "# Load the JSONL file\n",
    "dataset = load_dataset(\"json\", data_files=\"coarse_cleaned_patents_filtered_dedup.jsonl\")\n",
    "\n",
    "dataset = dataset[\"train\"]\n",
    "\n",
    "# Push to Hugging Face Hub\n",
    "dataset.push_to_hub(\"mhurhangee/ep-patents-coarse-cleaned\",commit_message=\"with exact deduping\")"
   ]
  }
 ],
 "metadata": {
  "kernelspec": {
   "display_name": "Python 3 (ipykernel)",
   "language": "python",
   "name": "python3"
  },
  "language_info": {
   "codemirror_mode": {
    "name": "ipython",
    "version": 3
   },
   "file_extension": ".py",
   "mimetype": "text/x-python",
   "name": "python",
   "nbconvert_exporter": "python",
   "pygments_lexer": "ipython3",
   "version": "3.12.10"
  }
 },
 "nbformat": 4,
 "nbformat_minor": 5
}
