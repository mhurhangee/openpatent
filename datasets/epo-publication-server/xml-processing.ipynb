{
 "cells": [
  {
   "cell_type": "markdown",
   "id": "c6ba2f3a",
   "metadata": {},
   "source": [
    "# English descriptions"
   ]
  },
  {
   "cell_type": "code",
   "execution_count": 3,
   "id": "c07b7c68",
   "metadata": {},
   "outputs": [
    {
     "name": "stdout",
     "output_type": "stream",
     "text": [
      "Language counts:\n",
      "en: 2524\n",
      "fr: 178\n",
      "de: 368\n"
     ]
    }
   ],
   "source": [
    "import os\n",
    "import xml.etree.ElementTree as ET\n",
    "from collections import Counter\n",
    "\n",
    "folder = \"./xml/20250903\"\n",
    "lang_counts = Counter()\n",
    "\n",
    "for file in os.listdir(folder):\n",
    "    if file.endswith(\".xml\"):\n",
    "        filepath = os.path.join(folder, file)\n",
    "        try:\n",
    "            tree = ET.parse(filepath)\n",
    "            root = tree.getroot()\n",
    "            for desc in root.findall(\".//description\"):\n",
    "                lang = desc.attrib.get(\"lang\")\n",
    "                if lang:\n",
    "                    lang_counts[lang] += 1\n",
    "        except Exception as e:\n",
    "            print(f\"Error parsing {file}: {e}\")\n",
    "\n",
    "print(\"Language counts:\")\n",
    "for lang, count in lang_counts.items():\n",
    "    print(f\"{lang}: {count}\")\n"
   ]
  },
  {
   "cell_type": "markdown",
   "id": "e9ae9885",
   "metadata": {},
   "source": [
    "# Investigate headings"
   ]
  },
  {
   "cell_type": "code",
   "execution_count": 5,
   "id": "b6fe3871",
   "metadata": {},
   "outputs": [],
   "source": [
    "import os\n",
    "import xml.etree.ElementTree as ET\n",
    "from collections import Counter\n",
    "\n",
    "folder = \"./xml/20250903\"\n",
    "\n",
    "heading_counts = Counter()\n",
    "headings_per_doc = {}\n",
    "\n",
    "for file in os.listdir(folder):\n",
    "    if file.endswith(\".xml\"):\n",
    "        filepath = os.path.join(folder, file)\n",
    "        try:\n",
    "            tree = ET.parse(filepath)\n",
    "            root = tree.getroot()\n",
    "            \n",
    "            # Find <description id=\"desc\" lang=\"en\">\n",
    "            desc = root.find(\".//description[@id='desc'][@lang='en']\")\n",
    "            if desc is not None:\n",
    "                headings = desc.findall(\".//heading\")\n",
    "                \n",
    "                # Count headings per doc\n",
    "                headings_per_doc[file] = len(headings)\n",
    "                \n",
    "                # Count normalized heading text\n",
    "                for h in headings:\n",
    "                    if h.text:\n",
    "                        heading_counts[h.text.strip().upper()] += 1\n",
    "\n",
    "        except Exception as e:\n",
    "            print(f\"Error parsing {file}: {e}\")"
   ]
  },
  {
   "cell_type": "code",
   "execution_count": 6,
   "id": "6b08ed93",
   "metadata": {},
   "outputs": [
    {
     "name": "stdout",
     "output_type": "stream",
     "text": [
      "Most common headings (normalized):\n",
      "BRIEF DESCRIPTION OF THE DRAWINGS: 610\n",
      "BACKGROUND: 515\n",
      "DETAILED DESCRIPTION: 473\n",
      "TECHNICAL FIELD: 412\n",
      "SUMMARY: 411\n",
      "SUMMARY OF THE INVENTION: 226\n",
      "BACKGROUND ART: 197\n",
      "BACKGROUND OF THE INVENTION: 175\n",
      "BRIEF DESCRIPTION OF DRAWINGS: 167\n",
      "DESCRIPTION OF EMBODIMENTS: 139\n",
      "FIELD OF THE INVENTION: 136\n",
      "EXAMPLES: 126\n",
      "SUMMARY OF INVENTION: 123\n",
      "CITATION LIST: 121\n",
      "TECHNICAL PROBLEM: 120\n",
      "SOLUTION TO PROBLEM: 105\n",
      "PATENT LITERATURE: 99\n",
      "REFERENCE SIGNS LIST: 97\n",
      "FIELD: 95\n",
      "DETAILED DESCRIPTION OF THE INVENTION: 87\n"
     ]
    }
   ],
   "source": [
    "print(\"Most common headings (normalized):\")\n",
    "for heading, count in heading_counts.most_common(20):\n",
    "    print(f\"{heading}: {count}\")"
   ]
  },
  {
   "cell_type": "code",
   "execution_count": 10,
   "id": "a87255ab",
   "metadata": {},
   "outputs": [
    {
     "data": {
      "image/png": "[encoded data removed]",
      "text/plain": [
       "<Figure size 800x500 with 1 Axes>"
      ]
     },
     "metadata": {},
     "output_type": "display_data"
    }
   ],
   "source": [
    "import numpy as np\n",
    "\n",
    "counts = list(headings_per_doc.values())\n",
    "\n",
    "# 95th percentile cutoff\n",
    "cutoff = int(np.percentile(counts, 95))\n",
    "trimmed_counts = [c for c in counts if c <= cutoff]\n",
    "\n",
    "plt.figure(figsize=(8,5))\n",
    "sns.histplot(trimmed_counts, bins=range(min(trimmed_counts), max(trimmed_counts)+2), discrete=True)\n",
    "\n",
    "plt.title(f\"Distribution of Headings per Document (cutoff ≤ {cutoff})\")\n",
    "plt.xlabel(\"Number of Headings\")\n",
    "plt.ylabel(\"Number of Documents\")\n",
    "plt.tight_layout()\n",
    "plt.show()\n"
   ]
  },
  {
   "cell_type": "markdown",
   "id": "6584ed56",
   "metadata": {},
   "source": [
    "> Using headings seems like a nightmare, not standardized enough"
   ]
  },
  {
   "cell_type": "markdown",
   "id": "707b8485",
   "metadata": {},
   "source": [
    "# XML tags in description"
   ]
  },
  {
   "cell_type": "code",
   "execution_count": 11,
   "id": "d58156d0",
   "metadata": {},
   "outputs": [],
   "source": [
    "import os\n",
    "import xml.etree.ElementTree as ET\n",
    "from collections import Counter\n",
    "\n",
    "folder = \"./xml/20250903\"\n",
    "tag_counter = Counter()\n",
    "\n",
    "for file in os.listdir(folder):\n",
    "    if file.endswith(\".xml\"):\n",
    "        filepath = os.path.join(folder, file)\n",
    "        try:\n",
    "            tree = ET.parse(filepath)\n",
    "            root = tree.getroot()\n",
    "\n",
    "            # Loop over all <description> blocks\n",
    "            for desc in root.findall(\".//description\"):\n",
    "                for elem in desc.iter():\n",
    "                    if elem is not desc:  # exclude the <description> itself\n",
    "                        tag_counter[elem.tag] += 1\n",
    "\n",
    "        except Exception as e:\n",
    "            print(f\"Error parsing {file}: {e}\")"
   ]
  },
  {
   "cell_type": "code",
   "execution_count": 14,
   "id": "fc10ca93",
   "metadata": {},
   "outputs": [
    {
     "name": "stdout",
     "output_type": "stream",
     "text": [
      "Most common tags inside <description>:\n",
      "p: 329384\n",
      "entry: 291823\n",
      "figref: 146730\n",
      "sub: 106620\n",
      "b: 87420\n",
      "li: 74431\n",
      "i: 71646\n",
      "row: 59992\n",
      "mi: 56017\n",
      "sup: 44841\n",
      "heading: 35253\n",
      "mo: 31743\n",
      "text: 26996\n",
      "colspec: 24245\n",
      "img: 21700\n",
      "mn: 19392\n",
      "patcit: 19223\n",
      "dt: 14503\n",
      "dd: 14503\n",
      "msub: 13815\n",
      "mfenced: 12478\n",
      "chemistry: 12319\n",
      "u: 9837\n",
      "ul: 9540\n",
      "nplcit: 7773\n",
      "mrow: 7056\n",
      "maths: 6520\n",
      "br: 6512\n",
      "math: 6236\n",
      "tgroup: 4561\n",
      "tbody: 4561\n",
      "tables: 4383\n",
      "mtd: 4171\n",
      "table: 3887\n",
      "mspace: 3752\n",
      "thead: 3685\n",
      "msubsup: 3006\n",
      "mfrac: 2955\n",
      "title: 2714\n",
      "mtr: 2329\n",
      "msup: 2213\n",
      "mover: 2033\n",
      "ol: 1669\n",
      "dl: 983\n",
      "mstyle: 967\n",
      "mtable: 799\n",
      "msqrt: 371\n",
      "sub2: 344\n",
      "o: 309\n",
      "formula-text: 218\n",
      "munder: 208\n",
      "munderover: 203\n",
      "mtext: 115\n",
      "pre: 99\n",
      "none: 75\n",
      "mmultiscripts: 41\n",
      "mprescripts: 41\n",
      "sup2: 19\n",
      "malignmark: 17\n",
      "menclose: 16\n",
      "maligngroup: 8\n",
      "mroot: 6\n"
     ]
    }
   ],
   "source": [
    "print(\"Most common tags inside <description>:\")\n",
    "for tag, count in tag_counter.most_common(100):\n",
    "    print(f\"{tag}: {count}\")\n"
   ]
  },
  {
   "cell_type": "markdown",
   "id": "da5fdb49",
   "metadata": {},
   "source": [
    "# Clean tags"
   ]
  },
  {
   "cell_type": "code",
   "execution_count": null,
   "id": "853096cd",
   "metadata": {},
   "outputs": [
    {
     "name": "stdout",
     "output_type": "stream",
     "text": [
      "All cleaned descriptions saved to cleaned_descriptions.txt\n"
     ]
    }
   ],
   "source": [
    "from lxml import etree\n",
    "import os\n",
    "\n",
    "DROP_TAGS = {\n",
    "    \"chemistry\", \"heading\", \"img\", \"maths\",\n",
    "    \"table\", \"tgroup\", \"row\", \"entry\", \"colspec\", \"tbody\"\n",
    "}\n",
    "\n",
    "UNWRAP_TAGS = {\"b\", \"i\", \"u\", \"sup\", \"sub\", \"br\", \"p\", \"patcit\", \"figref\", \"li\", \"ul\", \"ol\"}\n",
    "\n",
    "def aggressive_clean(desc_elem):\n",
    "    # Unwrap allowed tags first\n",
    "    for tag in UNWRAP_TAGS:\n",
    "        for elem in desc_elem.findall(f\".//{tag}\"):\n",
    "            parent = elem.getparent()\n",
    "            if parent is None:\n",
    "                continue\n",
    "            text_to_add = (elem.text or \"\") + (elem.tail or \"\")\n",
    "            if parent.text:\n",
    "                parent.text += text_to_add\n",
    "            else:\n",
    "                parent.text = text_to_add\n",
    "            parent.remove(elem)\n",
    "\n",
    "    # Remove all remaining unwanted tags\n",
    "    for tag in DROP_TAGS:\n",
    "        for elem in desc_elem.findall(f\".//{tag}\"):\n",
    "            parent = elem.getparent()\n",
    "            if parent is not None:\n",
    "                parent.remove(elem)\n",
    "\n",
    "    # Extract text\n",
    "    cleaned_text = \" \".join(desc_elem.itertext())\n",
    "    cleaned_text = \" \".join(cleaned_text.split())  # normalize whitespace\n",
    "\n",
    "    return cleaned_text\n",
    "\n",
    "# Folder with XML files\n",
    "folder = \"./xml/20250903\"\n",
    "output_file = \"cleaned_descriptions.txt\"\n",
    "\n",
    "with open(output_file, \"w\", encoding=\"utf-8\") as f_out:\n",
    "    for file in os.listdir(folder):\n",
    "        if file.endswith(\".xml\"):\n",
    "            filepath = os.path.join(folder, file)\n",
    "            try:\n",
    "                tree = etree.parse(filepath)\n",
    "                root = tree.getroot()\n",
    "                desc = root.find(\".//description[@id='desc'][@lang='en']\")\n",
    "                if desc is not None:\n",
    "                    text = aggressive_clean(desc)\n",
    "                    if text:\n",
    "                        f_out.write(text + \"\\n\")\n",
    "            except Exception as e:\n",
    "                print(f\"Error parsing {file}: {e}\")\n",
    "\n",
    "print(f\"All cleaned descriptions saved to {output_file}\")\n"
   ]
  },
  {
   "cell_type": "markdown",
   "id": "00853674",
   "metadata": {},
   "source": [
    "# Cleaned and remove first and last paragraphs"
   ]
  },
  {
   "cell_type": "code",
   "execution_count": null,
   "id": "f7cbe375",
   "metadata": {},
   "outputs": [
    {
     "name": "stdout",
     "output_type": "stream",
     "text": [
      "All cleaned descriptions saved to cleaned_descriptions_trimmed.txt\n"
     ]
    }
   ],
   "source": [
    "from lxml import etree\n",
    "import os\n",
    "\n",
    "# Tags to remove completely\n",
    "DROP_TAGS = {\n",
    "    \"chemistry\", \"heading\", \"img\",\n",
    "    \"table\", \"tgroup\", \"row\", \"entry\", \"colspec\", \"tbody\"\n",
    "}\n",
    "\n",
    "# Tags to unwrap and keep text\n",
    "UNWRAP_TAGS = {\"b\", \"i\", \"u\", \"sup\", \"sub\", \"br\", \"p\", \"patcit\", \"figref\", \"li\", \"ul\", \"ol\"}\n",
    "\n",
    "def aggressive_clean(desc_elem):\n",
    "    # Remove first and last <p> if they exist\n",
    "    p_elements = desc_elem.findall(\".//p\")\n",
    "    if p_elements:\n",
    "        if len(p_elements) >= 1:\n",
    "            parent = p_elements[0].getparent()\n",
    "            if parent is not None:\n",
    "                parent.remove(p_elements[0])\n",
    "        if len(p_elements) >= 2:\n",
    "            parent = p_elements[-1].getparent()\n",
    "            if parent is not None:\n",
    "                parent.remove(p_elements[-1])\n",
    "\n",
    "    # Unwrap allowed tags first\n",
    "    for tag in UNWRAP_TAGS:\n",
    "        for elem in desc_elem.findall(f\".//{tag}\"):\n",
    "            parent = elem.getparent()\n",
    "            if parent is None:\n",
    "                continue\n",
    "            text_to_add = (elem.text or \"\") + (elem.tail or \"\")\n",
    "            if parent.text:\n",
    "                parent.text += text_to_add\n",
    "            else:\n",
    "                parent.text = text_to_add\n",
    "            parent.remove(elem)\n",
    "\n",
    "    # Remove all remaining unwanted tags\n",
    "    for tag in DROP_TAGS:\n",
    "        for elem in desc_elem.findall(f\".//{tag}\"):\n",
    "            parent = elem.getparent()\n",
    "            if parent is not None:\n",
    "                parent.remove(elem)\n",
    "\n",
    "    # Extract cleaned text\n",
    "    cleaned_text = \" \".join(desc_elem.itertext())\n",
    "    cleaned_text = \" \".join(cleaned_text.split())  # normalize whitespace\n",
    "    return cleaned_text\n",
    "\n",
    "# Folder with XML files\n",
    "folder = \"./xml/20250903\"\n",
    "output_file = \"cleaned_descriptions_trimmed.txt\"\n",
    "\n",
    "with open(output_file, \"w\", encoding=\"utf-8\") as f_out:\n",
    "    for file in os.listdir(folder):\n",
    "        if file.endswith(\".xml\"):\n",
    "            filepath = os.path.join(folder, file)\n",
    "            try:\n",
    "                tree = etree.parse(filepath)\n",
    "                root = tree.getroot()\n",
    "                desc = root.find(\".//description[@id='desc'][@lang='en']\")\n",
    "                if desc is not None:\n",
    "                    text = aggressive_clean(desc)\n",
    "                    if text:\n",
    "                        f_out.write(text + \"\\n\")\n",
    "            except Exception as e:\n",
    "                print(f\"Error parsing {file}: {e}\")\n",
    "\n",
    "print(f\"All cleaned descriptions saved to {output_file}\")\n"
   ]
  },
  {
   "cell_type": "markdown",
   "id": "009055b3",
   "metadata": {},
   "source": [
    "# Remaining \"tags\"\n"
   ]
  },
  {
   "cell_type": "code",
   "execution_count": 23,
   "id": "1f14aa0c",
   "metadata": {},
   "outputs": [
    {
     "name": "stdout",
     "output_type": "stream",
     "text": [
      "Remaining tags found in the cleaned text:\n",
      "0\n",
      "001\n",
      "0vw\n",
      "1\n",
      "10\n",
      "100\n",
      "1000\n",
      "100kb\n",
      "10eV\n",
      "110\n",
      "111\n",
      "112\n",
      "15\n",
      "180\n",
      "2\n",
      "211\n",
      "3\n",
      "30\n",
      "4\n",
      "60\n",
      "634\n",
      "7\n",
      "711\n",
      "8\n",
      "90\n",
      "90mmHg\n",
      "BNG\n",
      "Chemical\n",
      "Closest\n",
      "Composite\n",
      "Compound\n",
      "Device\n",
      "Dim\n",
      "EXECUTE\n",
      "Effects\n",
      "Example\n",
      "Find\n",
      "H\n",
      "Implementation\n",
      "M\n",
      "MCC\n",
      "MNC\n",
      "Molding\n",
      "My\n",
      "Play\n",
      "Powder\n",
      "RTX\n",
      "Rc\n",
      "Receiver\n",
      "Show\n",
      "Stress\n",
      "T\n",
      "Table\n",
      "Tell\n",
      "V\n",
      "Vth2\n",
      "What\n",
      "X\n",
      "X2\n",
      "Zone\n",
      "eob\n",
      "execute\n",
      "first\n",
      "h\n",
      "inner\n",
      "metadata\n",
      "n1\n",
      "name\n",
      "one\n",
      "optional\n",
      "outer\n",
      "person\n",
      "port\n",
      "program\n",
      "slot\n",
      "subslot\n",
      "the\n",
      "third\n",
      "trunk\n",
      "trunkid\n",
      "up\n",
      "uvw\n",
      "vR\n"
     ]
    }
   ],
   "source": [
    "import re\n",
    "\n",
    "output_file = \"cleaned_descriptions.txt\"\n",
    "\n",
    "# regex to find anything looking like a tag\n",
    "tag_pattern = re.compile(r\"<([a-zA-Z0-9]+)[^>]*>\")\n",
    "\n",
    "tags_found = set()\n",
    "\n",
    "with open(output_file, \"r\", encoding=\"utf-8\") as f:\n",
    "    for line in f:\n",
    "        for match in tag_pattern.findall(line):\n",
    "            tags_found.add(match)\n",
    "\n",
    "if tags_found:\n",
    "    print(\"Remaining tags found in the cleaned text:\")\n",
    "    for tag in sorted(tags_found):\n",
    "        print(tag)\n",
    "else:\n",
    "    print(\"No remaining tags found. Text appears clean.\")\n"
   ]
  },
  {
   "cell_type": "markdown",
   "id": "b223c4ce",
   "metadata": {},
   "source": [
    "# Login HF\n"
   ]
  },
  {
   "cell_type": "code",
   "execution_count": 1,
   "id": "3c751e58",
   "metadata": {},
   "outputs": [
    {
     "data": {
      "application/vnd.jupyter.widget-view+json": {
       "model_id": "384aeca657434d50800abab0b5b742e1",
       "version_major": 2,
       "version_minor": 0
      },
      "text/plain": [
       "VBox(children=(HTML(value='<center> <img\\nsrc=https://huggingface.co/front/assets/huggingface_logo-noborder.sv…"
      ]
     },
     "metadata": {},
     "output_type": "display_data"
    }
   ],
   "source": [
    "from huggingface_hub import notebook_login\n",
    "\n",
    "notebook_login()"
   ]
  },
  {
   "cell_type": "markdown",
   "id": "8d0b6697",
   "metadata": {},
   "source": [
    "# Count Tokens"
   ]
  },
  {
   "cell_type": "code",
   "execution_count": 3,
   "id": "589e1e98",
   "metadata": {},
   "outputs": [],
   "source": [
    "from transformers import AutoTokenizer\n",
    "import matplotlib.pyplot as plt\n",
    "import seaborn as sns\n",
    "\n",
    "# Choose a tokenizer (e.g., GPT-2, LLaMA, or any you plan to pretrain with)\n",
    "tokenizer = AutoTokenizer.from_pretrained(\"google/gemma-3-1b-it\")  # replace with your model\n",
    "\n",
    "input_file = \"cleaned_descriptions_trimmed.txt\"\n",
    "\n",
    "token_lengths = []\n",
    "\n",
    "with open(input_file, \"r\", encoding=\"utf-8\") as f:\n",
    "    for line in f:\n",
    "        line = line.strip()\n",
    "        if line:\n",
    "            tokens = tokenizer.encode(line)\n",
    "            token_lengths.append(len(tokens))\n"
   ]
  },
  {
   "cell_type": "code",
   "execution_count": 4,
   "id": "e2d92e4e",
   "metadata": {},
   "outputs": [
    {
     "data": {
      "image/png": "[encoded data removed]",
      "text/plain": [
       "<Figure size 800x500 with 1 Axes>"
      ]
     },
     "metadata": {},
     "output_type": "display_data"
    },
    {
     "name": "stdout",
     "output_type": "stream",
     "text": [
      "Total lines: 2523\n",
      "Mean tokens per line: 8339.7\n",
      "Max tokens in a line: 104746\n",
      "Min tokens in a line: 419\n"
     ]
    }
   ],
   "source": [
    "\n",
    "# Plot distribution\n",
    "plt.figure(figsize=(8,5))\n",
    "sns.histplot(token_lengths, bins=range(0, max(token_lengths)+10, 10), kde=False)\n",
    "plt.title(\"Token length distribution per line\")\n",
    "plt.xlabel(\"Number of tokens\")\n",
    "plt.ylabel(\"Number of lines\")\n",
    "plt.tight_layout()\n",
    "plt.show()\n",
    "\n",
    "# Optional: print some stats\n",
    "print(f\"Total lines: {len(token_lengths)}\")\n",
    "print(f\"Mean tokens per line: {sum(token_lengths)/len(token_lengths):.1f}\")\n",
    "print(f\"Max tokens in a line: {max(token_lengths)}\")\n",
    "print(f\"Min tokens in a line: {min(token_lengths)}\")\n"
   ]
  },
  {
   "cell_type": "markdown",
   "id": "81bbcf71",
   "metadata": {},
   "source": [
    "# Count token with outliers removed"
   ]
  },
  {
   "cell_type": "code",
   "execution_count": 6,
   "id": "7901326e",
   "metadata": {},
   "outputs": [
    {
     "data": {
      "image/png": "[encoded data removed]",
      "text/plain": [
       "<Figure size 800x500 with 1 Axes>"
      ]
     },
     "metadata": {},
     "output_type": "display_data"
    },
    {
     "name": "stdout",
     "output_type": "stream",
     "text": [
      "Lines after filtering: 2269\n",
      "Mean tokens: 7288.2\n",
      "Min tokens: 1785, Max tokens: 21521\n"
     ]
    }
   ],
   "source": [
    "import numpy as np\n",
    "# Convert to numpy array for percentile calculation\n",
    "lengths = np.array(token_lengths)\n",
    "\n",
    "# Compute 5th and 95th percentiles\n",
    "low, high = np.percentile(lengths, [5, 95])\n",
    "\n",
    "# Filter lengths between 5th and 95th percentile\n",
    "filtered_lengths = lengths[(lengths >= low) & (lengths <= high)]\n",
    "\n",
    "# Plot histogram\n",
    "plt.figure(figsize=(8,5))\n",
    "sns.histplot(filtered_lengths, bins=10, kde=False)\n",
    "plt.title(\"Token length distribution per line (5-95% percentile)\")\n",
    "plt.xlabel(\"Number of tokens\")\n",
    "plt.ylabel(\"Number of lines\")\n",
    "plt.tight_layout()\n",
    "plt.show()\n",
    "\n",
    "# Optional stats\n",
    "print(f\"Lines after filtering: {len(filtered_lengths)}\")\n",
    "print(f\"Mean tokens: {filtered_lengths.mean():.1f}\")\n",
    "print(f\"Min tokens: {filtered_lengths.min()}, Max tokens: {filtered_lengths.max()}\")"
   ]
  },
  {
   "cell_type": "code",
   "execution_count": 1,
   "id": "bcb26ee2",
   "metadata": {},
   "outputs": [
    {
     "name": "stdout",
     "output_type": "stream",
     "text": [
      "Truncated lines saved to cleaned_descriptions_1024.txt\n"
     ]
    }
   ],
   "source": [
    "from transformers import AutoTokenizer\n",
    "import os\n",
    "import re\n",
    "\n",
    "# Initialize tokenizer\n",
    "tokenizer = AutoTokenizer.from_pretrained(\"meta-llama/Llama-3.2-1B\")  # replace with your model\n",
    "\n",
    "input_file = \"cleaned_descriptions_trimmed.txt\"\n",
    "output_file = \"cleaned_descriptions_1024.txt\"\n",
    "max_tokens = 1024\n",
    "\n",
    "sentence_end_re = re.compile(r'\\. ')\n",
    "\n",
    "def truncate_to_max_tokens(text, max_tokens):\n",
    "    tokens = tokenizer.encode(text, add_special_tokens=False)\n",
    "    if len(tokens) <= max_tokens:\n",
    "        return text\n",
    "\n",
    "    # Decode truncated token slice\n",
    "    truncated_tokens = tokens[:max_tokens]\n",
    "    truncated_text = tokenizer.decode(truncated_tokens, skip_special_tokens=True)\n",
    "\n",
    "    # Cut at last period followed by space\n",
    "    matches = list(sentence_end_re.finditer(truncated_text))\n",
    "    if matches:\n",
    "        last_end = matches[-1].end()\n",
    "        truncated_text = truncated_text[:last_end].strip()\n",
    "\n",
    "    return truncated_text\n",
    "\n",
    "\n",
    "with open(input_file, \"r\", encoding=\"utf-8\") as f_in, \\\n",
    "     open(output_file, \"w\", encoding=\"utf-8\") as f_out:\n",
    "    for line in f_in:\n",
    "        line = line.strip()\n",
    "        if not line:\n",
    "            continue\n",
    "        truncated_line = truncate_to_max_tokens(line, max_tokens)\n",
    "        if truncated_line:\n",
    "            f_out.write(truncated_line + \"\\n\")\n",
    "\n",
    "print(f\"Truncated lines saved to {output_file}\")\n"
   ]
  },
  {
   "cell_type": "code",
   "execution_count": 2,
   "id": "5a7bfb01",
   "metadata": {},
   "outputs": [
    {
     "name": "stdout",
     "output_type": "stream",
     "text": [
      "Split 2523 lines into individual files in 'split_lines'\n"
     ]
    }
   ],
   "source": [
    "import os\n",
    "\n",
    "input_file = \"cleaned_descriptions_1024.txt\"\n",
    "output_folder = \"split_lines\"\n",
    "\n",
    "# Create folder if it doesn't exist\n",
    "os.makedirs(output_folder, exist_ok=True)\n",
    "\n",
    "with open(input_file, \"r\", encoding=\"utf-8\") as f:\n",
    "    for idx, line in enumerate(f, start=1):\n",
    "        line = line.strip()\n",
    "        if not line:\n",
    "            continue\n",
    "        # Create a filename for each line\n",
    "        out_file = os.path.join(output_folder, f\"doc_{idx:05d}.txt\")\n",
    "        with open(out_file, \"w\", encoding=\"utf-8\") as f_out:\n",
    "            f_out.write(line + \"\\n\")\n",
    "\n",
    "print(f\"Split {idx} lines into individual files in '{output_folder}'\")\n"
   ]
  },
  {
   "cell_type": "code",
   "execution_count": null,
   "id": "fed61558",
   "metadata": {},
   "outputs": [],
   "source": []
  }
 ],
 "metadata": {
  "kernelspec": {
   "display_name": ".venv",
   "language": "python",
   "name": "python3"
  },
  "language_info": {
   "codemirror_mode": {
    "name": "ipython",
    "version": 3
   },
   "file_extension": ".py",
   "mimetype": "text/x-python",
   "name": "python",
   "nbconvert_exporter": "python",
   "pygments_lexer": "ipython3",
   "version": "3.11.13"
  }
 },
 "nbformat": 4,
 "nbformat_minor": 5
}
