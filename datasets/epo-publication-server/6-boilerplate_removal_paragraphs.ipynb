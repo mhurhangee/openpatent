{
 "cells": [
  {
   "cell_type": "markdown",
   "id": "a9babfcc-6d9f-416a-8589-3dd5c1f43612",
   "metadata": {},
   "source": [
    "# Common paragraphs"
   ]
  },
  {
   "cell_type": "code",
   "execution_count": 16,
   "id": "23251e0d-e7fb-4c86-927b-493276007981",
   "metadata": {
    "collapsed": true,
    "jupyter": {
     "outputs_hidden": true,
     "source_hidden": true
    }
   },
   "outputs": [
    {
     "name": "stdout",
     "output_type": "stream",
     "text": [
      "Top 50 remaining paragraphs (total count / document count):\n",
      "[Total: 313, Docs: 1] In some embodiments, the substituted ring B is\n",
      "<CHM>\n",
      "[Total: 296, Docs: 2] Isolated as a white solid (<NUM>, <NUM>%).\n",
      "[Total: 244, Docs: 244] The camera module <NUM> may capture a still image or moving images. According to an embodiment, the camera module <NUM> may include one or more lenses, image sensors, image signal processors, or flashes.\n",
      "[Total: 229, Docs: 229] The haptic module <NUM> may convert an electrical signal into a mechanical stimulus (e.g., a vibration or a movement) or electrical stimulus which may be recognized by a user via his tactile sensation or kinesthetic sensation. According to an embodiment, the haptic module <NUM> may include, for example, a motor, a piezoelectric element, or an electric stimulator.\n",
      "[Total: 218, Docs: 217] The terminology used herein is for the purpose of describing particular embodiments only and is not intended to be limiting of the present disclosure. As used herein, the singular forms \"a\", \"an\" and \"the\" are intended to include the plural forms as well, unless the context clearly indicates otherwise. It will be further understood that the terms \"comprises\" and/or \"comprising,\" when used in this specification, specify the presence of stated features, integers, steps, operations, elements, and/or components, but do not preclude the presence or addition of one or more other features, integers, steps, operations, element components, and/or groups thereof.\n",
      "[Total: 209, Docs: 118] The transceiver <NUM> may communicate bi-directionally, via one or more antennas, wired, or wireless links as described above. For example, the transceiver <NUM> may represent a wireless transceiver and may communicate bi-directionally with another wireless transceiver. The transceiver <NUM> may also include a modem to modulate the packets and provide the modulated packets to the antennas for transmission, and to demodulate packets received from the antennas.\n",
      "[Total: 209, Docs: 209] The memory <NUM> may store various data used by at least one component (e.g., the processor <NUM> or the sensor module <NUM>) of the electronic device <NUM>. The various data may include, for example, software (e.g., the program <NUM>) and input data or output data for a command related thereto. The memory <NUM> may include the volatile memory <NUM> or the non-volatile memory <NUM>.\n",
      "[Total: 208, Docs: 208] A connecting terminal <NUM> may include a connector via which the electronic device <NUM> may be physically connected with the external electronic device (e.g., the electronic device <NUM>). According to an embodiment, the connecting terminal <NUM> may include, for example, a HDMI connector, a USB connector, a SD card connector, or an audio connector (e.g., a headphone connector).\n",
      "[Total: 206, Docs: 205] The above information is presented as background information only to assist with an understanding of the disclosure. No determination has been made, and no assertion is made, as to whether any of the above might be applicable as prior art with regard to the disclosure.\n",
      "[Total: 206, Docs: 2] LC-MS (method <NUM>): Rt = <NUM>; MS (ESlpos): m/z = <NUM> [M+H]+\n",
      "[Total: 195, Docs: 193] Information and signals described herein may be represented using any of a variety of different technologies and techniques. For example, data, instructions, commands, information, signals, bits, symbols, and chips that may be referenced throughout the description may be represented by voltages, currents, electromagnetic waves, magnetic fields or particles, optical fields or particles, or any combination thereof.\n",
      "[Total: 172, Docs: 169] The I/O controller <NUM> may manage input and output signals for the device <NUM>. The I/O controller <NUM> may also manage peripherals not integrated into the device <NUM>. In some cases, the I/O controller <NUM> may represent a physical connection or port to an external peripheral. In some cases, the I/O controller <NUM> may utilize an operating system such as iOS®, ANDROID®, MS-DOS®, MS-WINDOWS®, OS/<NUM>®, UNIX®, LINUX®, or another known operating system. In other cases, the I/O controller <NUM> may represent or interact with a modem, a keyboard, a mouse, a touchscreen, or a similar device. In some cases, the I/O controller <NUM> may be implemented as part of a processor. In some cases, a user may interact with the device <NUM> via the I/O controller <NUM> or via hardware components controlled by the I/O controller <NUM>.\n",
      "[Total: 165, Docs: 51] Transmitter <NUM> may transmit signals generated by other components of the device. In some examples, the transmitter <NUM> may be collocated with a receiver <NUM> in a transceiver module. For example, the transmitter <NUM> may be an example of aspects of the transceiver <NUM> described with reference to <FIG>. The transmitter <NUM> may utilize a single antenna or a set of antennas.\n",
      "[Total: 160, Docs: 160] The accompanying drawings, which are incorporated in and constitute a part of this disclosure, illustrate exemplary embodiments and, together with the description, serve to explain the disclosed principles:\n",
      "[Total: 160, Docs: 58] <NPL>).\n",
      "[Total: 158, Docs: 89] <CHM>\n",
      "<CHM>\n",
      "<CHM>\n",
      "[Total: 158, Docs: 1] The title compound (<NUM>, <NUM> %) was prepared in the same fashion as Step <NUM> of Reference Example <NUM> and used in the next step without any further purification.\n",
      "[Total: 156, Docs: 156] At least some of the network devices, such as a base station <NUM>, may include subcomponents such as an access network entity, which may be an example of an access node controller (ANC). Each access network entity may communicate with UEs <NUM> through a number of other access network transmission entities, which may be referred to as a radio head, a smart radio head, or a transmission/reception point (TRP). In some configurations, various functions of each access network entity or base station <NUM> may be distributed across various network devices (e.g., radio heads and access network controllers) or consolidated into a single network device (e.g., a base station <NUM>).\n",
      "[Total: 156, Docs: 156] The display device <NUM> may visually provide information to the outside (e.g., a user) of the electronic device <NUM>. The display device <NUM> may include, for example, a display, a hologram device, or a projector and control circuitry to control a corresponding one of the display, hologram device, and projector. According to an embodiment, the display device <NUM> may include touch circuitry adapted to detect a touch, or sensor circuitry (e.g., a pressure sensor) adapted to measure the intensity of force incurred by the touch.\n",
      "[Total: 150, Docs: 149] These computer program instructions may also be stored in a computer readable medium that can direct a computer, other programmable data processing apparatus, or other devices to function in a particular manner, such that the instructions stored in the computer readable medium produce an article of manufacture including instructions which implement the function/act specified in the flowchart and/or block diagram block or blocks.\n",
      "[Total: 150, Docs: 150] The electronic device according to various embodiments may be one of various types of electronic devices. The electronic devices may include, for example, a portable communication device (e.g., a smartphone), a computer device, a portable multimedia device, a portable medical device, a camera, a wearable device, or a home appliance. According to an embodiment of the disclosure, the electronic devices are not limited to those described above.\n",
      "[Total: 148, Docs: 148] Referring now to the drawings, and more particularly to <FIG>, where similar reference characters denote corresponding features consistently throughout the figures, there are shown preferred embodiments and these embodiments are described in the context of the following exemplary system and/or method.\n",
      "[Total: 148, Docs: 148] A BS may provide communication coverage for a macro cell, a pico cell, a femto cell, and/or another type of cell. A macro cell may cover a relatively large geographic area (e.g., several kilometers in radius) and may allow unrestricted access by UEs with service subscription. A pico cell may cover a relatively small geographic area and may allow unrestricted access by UEs with service subscription. A femto cell may cover a relatively small geographic area (e.g., a home) and may allow restricted access by UEs having association with the femto cell (e.g., UEs in a closed subscriber group (CSG)). A BS for a macro cell may be referred to as a macro BS. A BS for a pico cell may be referred to as a pico BS. A BS for a femto cell may be referred to as a femto BS or a home BS. In the example shown in <FIG>, a BS 110a may be a macro BS for a macro cell 102a, a BS 110b may be a pico BS for a pico cell 102b, and a BS 110c may be a femto BS for a femto cell 102c. A BS may support one or multiple (e.g., three) cells. The terms \"eNB\", \"base station\", \"NR BS\", \"gNB\", \"TRP\", \"AP\", \"node B\", \"<NUM> NB\", and \"cell\" may be used interchangeably herein.\n",
      "[Total: 146, Docs: 146] The computer readable program instructions may also be loaded onto a computer, other programmable data processing apparatus, or other device to cause a series of operational steps to be performed on the computer, other programmable apparatus or other device to produce a computer implemented process, such that the instructions which execute on the computer, other programmable apparatus, or other device implement the functions/acts specified in the flowchart and/or block diagram block or blocks.\n",
      "[Total: 145, Docs: 145] The units described as separate parts may or may not be physically separate, and parts displayed as units may or may not be physical units, may be located in one position, or may be distributed on a plurality of network units. Some or all of the units may be selected based on actual requirements to achieve the objectives of the solutions of the embodiments.\n",
      "[Total: 142, Docs: 2] MS (ESI+) m/z <NUM> [M + H]+.\n",
      "[Total: 140, Docs: 72] Although <FIG> shows example blocks of process <NUM>, in some implementations, process <NUM> may include additional blocks, fewer blocks, different blocks, or differently arranged blocks than those depicted in <FIG>. Additionally, or alternatively, two or more of the blocks of process <NUM> may be performed in parallel.\n",
      "[Total: 138, Docs: 138] Some UEs <NUM>, such as MTC or IoT devices, may be low cost or low complexity devices, and may provide for automated communication between machines (e.g., via Machine-to-Machine (M2M) communication). M2M communication or MTC may refer to data communication technologies that allow devices to communicate with one another or a base station <NUM> without human intervention. In some examples, M2M communication or MTC may include communications from devices that integrate sensors or meters to measure or capture information and relay that information to a central server or application program that can make use of the information or present the information to humans interacting with the program or application. Some UEs <NUM> may be designed to collect information or enable automated behavior of machines. Examples of applications for MTC devices include smart metering, inventory monitoring, water level monitoring, equipment monitoring, healthcare monitoring, wildlife monitoring, weather and geological event monitoring, fleet management and tracking, remote security sensing, physical access control, and transaction-based business charging.\n",
      "[Total: 138, Docs: 138] The present invention is set out in the appended set of claims.\n",
      "[Total: 138, Docs: 1] MS m/z (M + H): <NUM>.\n",
      "[Total: 137, Docs: 137] As used herein, the term \"module\" may include a unit implemented in hardware, software, or firmware, and may interchangeably be used with other terms, for example, \"logic,\" \"logic block,\" \"part,\" or \"circuitry\". A module may be a single integral component, or a minimum unit or part thereof, adapted to perform one or more functions. For example, according to an embodiment, the module may be implemented in a form of an application-specific integrated circuit (ASIC).\n",
      "[Total: 136, Docs: 135] Physical channels may be multiplexed on a carrier according to various techniques. A physical control channel and a physical data channel may be multiplexed on a downlink carrier, for example, using time division multiplexing (TDM) techniques, frequency division multiplexing (FDM) techniques, or hybrid TDM-FDM techniques. In some examples, control information transmitted in a physical control channel may be distributed between different control regions in a cascaded manner (e.g., between a common control region or common search space and one or more UE-specific control regions or UE-specific search spaces).\n",
      "[Total: 136, Docs: 135] Techniques described herein may be used for various wireless communications systems such as code division multiple access (CDMA), time division multiple access (TDMA), frequency division multiple access (FDMA), orthogonal frequency division multiple access (OFDMA), single carrier frequency division multiple access (SC-FDMA), and other systems. A CDMA system may implement a radio technology such as CDMA2000, Universal Terrestrial Radio Access (UTRA), etc. CDMA2000 covers IS-<NUM>, IS-<NUM>, and IS-<NUM> standards. IS-<NUM> Releases may be commonly referred to as CDMA2000 1X, 1X, etc. IS-<NUM> (TIA-<NUM>) is commonly referred to as CDMA2000 1xEV-DO, High Rate Packet Data (HRPD), etc. UTRA includes Wideband CDMA (WCDMA) and other variants of CDMA. A TDMA system may implement a radio technology such as Global System for Mobile Communications (GSM).\n",
      "[Total: 136, Docs: 136] For a better understanding of the invention, and to show more clearly how it may be carried into effect, reference will now be made, by way of example only, to the accompanying drawings, in which:\n",
      "[Total: 136, Docs: 136] The invention is defined by the independent claims.\n",
      "[Total: 136, Docs: 1] In some embodiments, the optionally substituted ring A is\n",
      "<CHM>\n",
      "[Total: 135, Docs: 135] In some cases, UEs <NUM> and base stations <NUM> may support retransmissions of data to increase the likelihood that data is received successfully. HARQ feedback is one technique of increasing the likelihood that data is received correctly over a communication link <NUM>. HARQ may include a combination of error detection (e.g., using a cyclic redundancy check (CRC)), forward error correction (FEC), and retransmission (e.g., automatic repeat request (ARQ)). HARQ may improve throughput at the MAC layer in poor radio conditions (e.g., signal-to-noise conditions). In some cases, a wireless device may support same-slot HARQ feedback, where the device may provide HARQ feedback in a specific slot for data received in a previous symbol in the slot. In other cases, the device may provide HARQ feedback in a subsequent slot, or according to some other time interval.\n",
      "[Total: 135, Docs: 135] Information and signals described herein may be represented using any of a variety of different technologies and techniques. For example, data, instructions, commands, information, signals, bits, symbols, and chips that may be referenced throughout the above description may be represented by voltages, currents, electromagnetic waves, magnetic fields or particles, optical fields or particles, or any combination thereof.\n",
      "[Total: 135, Docs: 135] The invention will be described with reference to the Figures.\n",
      "[Total: 135, Docs: 135] The audio module <NUM> may convert a sound into an electrical signal and vice versa. According to an embodiment, the audio module <NUM> may obtain the sound via the input device <NUM>, or output the sound via the sound output device <NUM> or a headphone of an external electronic device (e.g., an electronic device <NUM>) directly (e.g., wiredly) or wirelessly coupled with the electronic device <NUM>.\n",
      "[Total: 135, Docs: 133] <FIG>, discussed below, and the various embodiments used to describe the principles of the present disclosure in this patent document are by way of illustration only and should not be construed in any way to limit the scope of the disclosure. Those skilled in the art will understand that the principles of the present disclosure may be implemented in any suitably arranged system or device.\n",
      "[Total: 134, Docs: 134] Beamforming, which may also be referred to as spatial filtering, directional transmission, or directional reception, is a signal processing technique that may be used at a transmitting device or a receiving device (e.g., a base station <NUM> or a UE <NUM>) to shape or steer an antenna beam (e.g., a transmit beam or receive beam) along a spatial path between the transmitting device and the receiving device. Beamforming may be achieved by combining the signals communicated via antenna elements of an antenna array such that signals propagating at particular orientations with respect to an antenna array experience constructive interference while others experience destructive interference. The adjustment of signals communicated via the antenna elements may include a transmitting device or a receiving device applying certain amplitude and phase offsets to signals carried via each of the antenna elements associated with the device. The adjustments associated with each of the antenna elements may be defined by a beamforming weight set associated with a particular orientation (e.g., with respect to the antenna array of the transmitting device or receiving device, or with respect to some other orientation).\n",
      "[Total: 134, Docs: 134] In some wireless communications systems, a slot may further be divided into multiple mini-slots containing one or more symbols. In some instances, a symbol of a mini-slot or a mini-slot may be the smallest unit of scheduling. Each symbol may vary in duration depending on the subcarrier spacing or frequency band of operation, for example. Further, some wireless communications systems may implement slot aggregation in which multiple slots or mini-slots are aggregated together and used for communication between a UE <NUM> and a base station <NUM>.\n",
      "[Total: 134, Docs: 54] In Formula <NUM>,\n",
      "[Total: 134, Docs: 36] As indicated above, <FIG> is provided merely as an example. Other examples are possible and may differ from what was described with regard to <FIG>.\n",
      "[Total: 133, Docs: 133] The network communications manager <NUM> may manage communications with the core network (e.g., via one or more wired backhaul links). For example, the network communications manager <NUM> may manage the transfer of data communications for client devices, such as one or more UEs <NUM>.\n",
      "[Total: 133, Docs: 133] This Summary is provided to introduce a selection of concepts in a simplified form that are further described below in the Detailed Description. This Summary is not intended to identify key features or essential features of the claimed subject matter, nor is it intended to be used to limit the scope of the claimed subject matter.\n",
      "[Total: 133, Docs: 133] The auxiliary processor <NUM> may control at least some of functions or states related to at least one component (e.g., the display device <NUM>, the sensor module <NUM>, or the communication module <NUM>) among the components of the electronic device <NUM>, instead of the main processor <NUM> while the main processor <NUM> is in an inactive (e.g., sleep) state, or together with the main processor <NUM> while the main processor <NUM> is in an active state (e.g., executing an application). According to an embodiment, the auxiliary processor <NUM> (e.g., an image signal processor or a communication processor) may be implemented as part of another component (e.g., the camera module <NUM> or the communication module <NUM>) functionally related to the auxiliary processor <NUM>.\n",
      "[Total: 133, Docs: 65] <IMG>\n",
      "<IMG>\n",
      "[Total: 132, Docs: 132] The term \"cell\" refers to a logical communication entity used for communication with a base station <NUM> (e.g., over a carrier), and may be associated with an identifier for distinguishing neighboring cells (e.g., a physical cell identifier (PCID), a virtual cell identifier (VCID)) operating via the same or a different carrier. In some examples, a carrier may support multiple cells, and different cells may be configured according to different protocol types (e.g., machine-type communication (MTC), narrowband Internet-of-Things (NB-IoT), enhanced mobile broadband (eMBB), or others) that may provide access for different types of devices. In some cases, the term \"cell\" may refer to a portion of a geographic coverage area <NUM> (e.g., a sector) over which the logical entity operates.\n"
     ]
    }
   ],
   "source": [
    "# Iterative paragraph deduplication for coarse_cleaned_patents.jsonl\n",
    "# Each run updates the blacklist and shows remaining common paragraphs.\n",
    "# Saves only when you want to write the final deduplicated dataset.\n",
    "\n",
    "from collections import Counter\n",
    "import json\n",
    "\n",
    "# ---------- Config ----------\n",
    "input_file = \"coarse_cleaned_patents.jsonl\"\n",
    "\n",
    "# ---------- Blacklist ----------\n",
    "# Start empty, or add known boilerplate paragraphs here.\n",
    "# Each run you can append new paragraphs to the blacklist.\n",
    "blacklist = set([\n",
    "    # TOKENS\n",
    "    \"<TAB>\", \n",
    "    \"<CHM>\", \n",
    "    \"<CHM>\\n<CHM>\\n<CHM>\\n\",\n",
    "    \"<IMG>\",\n",
    "    \"<CHM>\\n<CHM>\",\n",
    "    \"<NPL>.\",\n",
    "    \"<NPL>\",\n",
    "    \"<MAT>\",\n",
    "    \"<NPL>)\",\n",
    "    \"<CIT>\",\n",
    "    # Invention in claims\n",
    "    \"The invention is set out in the appended set of claims.\",\n",
    "    \"The invention is defined by the claims.\",\n",
    "    \"The invention is defined by the appended claims.\",\n",
    "    \"The present invention is defined by the appended claims.\",\n",
    "    \"The invention is defined in the appended claims.\",\n",
    "    \"This object is solved by the subject matter of the independent claims.\",\n",
    "    \"The invention is set out in the appended claims.\",\n",
    "    \"The present invention is defined in the appended claims.\",\n",
    "    \"The invention is defined in the claims.\",\n",
    "    # Embodiments\n",
    "    \"Additional aspects will be set forth in part in the description which follows and, in part, will be apparent from the description, or may be learned by practice of the presented embodiments.\",\n",
    "    \"A detailed description of one or more embodiments of the disclosed apparatus and method are presented herein by way of exemplification and not limitation with reference to the Figures.\",\n",
    "    \"Other aspects, advantages, and salient features of the disclosure will become apparent to those skilled in the art from the following detailed description, which, taken in conjunction with the annexed drawings, discloses various embodiments of the disclosure.\",\n",
    "    \"The description set forth herein, in connection with the appended drawings, describes example configurations and does not represent all the examples that may be implemented or that are within the scope of the claims. The term \\\"exemplary\\\" used herein means \\\"serving as an example, instance, or illustration,\\\" and not \\\"preferred\\\" or \\\"advantageous over other examples.\\\" The detailed description includes specific details for the purpose of providing an understanding of the described techniques. These techniques, however, may be practiced without these specific details. In some instances, well-known structures and devices are shown in block diagram form in order to avoid obscuring the concepts of the described examples.\",   \n",
    "    \"It is to be understood that both the foregoing general description and the following detailed description are exemplary and explanatory only and are not restrictive of the invention, as claimed.\",\n",
    "    \"The detailed description set forth below in connection with the appended drawings is intended as a description of various configurations and is not intended to represent the only configurations in which the concepts described herein may be practiced. The detailed description includes specific details for the purpose of providing a thorough understanding of various concepts. However, it will be apparent to those skilled in the art that these concepts may be practiced without these specific details. In some instances, well known structures and components are shown in block diagram form in order to avoid obscuring such concepts.\",\n",
    "    \"A full and enabling disclosure of the present invention, including the best mode thereof, directed to one of ordinary skill in the art, is set forth in the specification, which makes reference to the appended figures, in which:\",\n",
    "    \"Preferred embodiments are defined by the dependent claims.\",\n",
    "    # Drawings\n",
    "    \"A detailed description of one or more embodiments of the disclosed apparatus and method are presented herein by way of exemplification and not limitation with reference to the Figures.\",\n",
    "    \"In the drawings:\",\n",
    "    \"In the accompanying drawings:\",\n",
    "    \"Like reference numbers and designations in the various drawings indicate like elements.\",\n",
    "    \"Like reference symbols in the various drawings indicate like elements.\",\n",
    "    \"The following descriptions should not be considered limiting in any way. With reference to the accompanying drawings, like elements are numbered alike:\",\n",
    "    \"These and other aspects of the invention will be apparent from and elucidated with reference to the embodiment(s) described hereinafter.\",\n",
    "    \"As indicated above, <FIG> is provided as an example. Other examples may differ from what is described with regard to <FIG>.\",\n",
    "    \"The above and other aspects, features, and advantages of certain embodiments of the disclosure will be more apparent from the following description taken in conjunction with the accompanying drawings, in which:\",\n",
    "    \"Although <FIG> shows example blocks of process <NUM>, in some aspects, process <NUM> may include additional blocks, fewer blocks, different blocks, or differently arranged blocks than those depicted in <FIG>. Additionally, or alternatively, two or more of the blocks of process <NUM> may be performed in parallel.\",\n",
    "    \"In the appended figures, similar components or features may have the same reference label. Further, various components of the same type may be distinguished by following the reference label by a dash and a second label that distinguishes among the similar components. If just the first reference label is used in the specification, the description is applicable to any one of the similar components having the same first reference label irrespective of the second reference label, or other subsequent reference label.\",\n",
    "    \"This Summary is provided to introduce a selection of concepts in a simplified form that are further described below in the Detailed Description. This Summary is not intended to identify key features or essential features of the claimed subject matter, nor is it intended to be used as an aid in determining the scope of the claimed subject matter.\",\n",
    "    \"It should be noted that the methods described herein describe possible implementations, and that the operations and the steps may be rearranged or otherwise modified and that other implementations are possible. Further, aspects from two or more of the methods may be combined.\",\n",
    "    \"These and other features, aspects, and advantages of the present disclosure will become better understood when the following detailed description is read with reference to the accompanying drawings in which like characters represent like parts throughout the drawings, wherein:\",\n",
    "    \"With reference to the appended drawings, below follows a more detailed description of embodiments of the invention cited as examples.\",\n",
    "    \"As indicated above, <FIG> is provided as an example. Other examples may differ from what is described with respect to <FIG>.\",\n",
    "    \"The accompanying drawings illustrate a preferred embodiment of the present disclosure and together with the foregoing disclosure, serve to provide further understanding of the technical features of the present disclosure, and thus, the present disclosure is not construed as being limited to the drawing.\",\n",
    "    \"Further features of the present invention will become apparent from the following description of exemplary embodiments with reference to the attached drawings.\",\n",
    "    \"Hereinafter, the present invention will be described in detail.\",\n",
    "    # Table\n",
    "    \"The results are shown in Table <NUM>.\",\n",
    "    \"The results are summarized in Table <NUM> below.\",\n",
    "    # Plurals\n",
    "    \"It is to be understood that the singular forms \\\"a,\\\" \\\"an,\\\" and \\\"the\\\" include plural referents unless the context clearly dictates otherwise. Thus, for example, reference to \\\"a component surface\\\" includes reference to one or more of such surfaces.\",\n",
    "    \"The terminology used herein is for the purpose of describing particular embodiments only and is not intended to be limiting of the present disclosure. As used herein, the singular forms \\\"a\\\", \\\"an\\\" and \\\"the\\\" are intended to include the plural forms as well, unless the context clearly indicates otherwise. It will be further understood that the terms \\\"comprises\\\" and/or \\\"comprising,\\\" when used in this specification, specify the presence of stated features, integers, steps, operations, elements, and/or components, but do not preclude the presence or addition of one or more other features, integers, steps, operations, element components, and/or groups thereof.\"\n",
    "    # Citations\n",
    "    \"Patent Literature <NUM>: <CIT>\",\n",
    "    \"Patent Document <NUM>: <CIT>\",\n",
    "    \"PTL <NUM>: <CIT>\",\n",
    "    # Wherein\n",
    "    \"wherein\",\n",
    "    \"wherein:\",\n",
    "    # Mass spec\n",
    "    \"MS m/z (ESI): <NUM> [M+H]+.\",\n",
    "    \"m/z ES+ [M+H]+ <NUM>.\",\n",
    "    \"LC-MS (ESI): m/z (M+<NUM>): <NUM> (Method <NUM>)\",\n",
    "    \"LC-MS (Method <NUM>): Rt = <NUM>; MS (ESIpos): m/z = <NUM> [M+H]+\",\n",
    "    \"LC-MS (method <NUM>): Rt = <NUM>; MS (ESlpos): m/z = <NUM> [M+H]+\",\n",
    "    \"In Formula <NUM>,\",\n",
    "    # Chemistry boilerplate\n",
    "    \"In a further embodiment of the first aspect, the present invention covers compounds of formula (I), supra, in which:\",\n",
    "    \"In further embodiments of the above-mentioned aspects, the invention relates to compounds of formula (I), where\",\n",
    "    \"and stereoisomers, tautomers, N-oxides, hydrates, solvates, and salts thereof, and mixtures of same.\",\n",
    "    \"In some embodiments, the substituted ring B is \\n<CHM>\",\n",
    "    \"In further embodiments of the above-mentioned aspects, the invention relates to compounds of formula (I), wherein:\",\n",
    "    # Transmitter boilerplate\n",
    "    \"The transmitter <NUM> may transmit signals generated by other components of the device <NUM>. In some examples, the transmitter <NUM> may be collocated with a receiver <NUM> in a transceiver module. For example, the transmitter <NUM> may be an example of aspects of the transceiver <NUM> described with reference to <FIG>. The transmitter <NUM> may utilize a single antenna or a set of antennas.\",\n",
    "    \"In some cases, the wireless device may include a single antenna <NUM>. However, in some cases the device may have more than one antenna <NUM>, which may be capable of concurrently transmitting or receiving multiple wireless transmissions.\",\n",
    "    # Process boilerplate\n",
    "    \"Process <NUM> may include additional aspects, such as any single aspect or any combination of aspects described below and/or in connection with one or more other processes described elsewhere herein.\",\n",
    "    # Biomarker\n",
    "    \"The biomarker of SEQ ID NO: <NUM> may be used to assess the responsiveness of a cancer patient (e.g., a patient with cancer recurrence) to 2X-<NUM> or a pharmaceutically acceptable salt thereof. The expression level of the biomarker of SEQ ID NO: <NUM> may be assessed using nucleic acid amplification methods (e.g., PCR) or a device (e.g., a microarray). As is described above, the expression level of the biomarker of SEQ ID NO: <NUM> in the patient sample may then be compared, e.g., to the expression level of the biomarker of SEQ ID NO: <NUM> in a cell (e.g., a cancer cell) or tissue (e.g., a tumor tissue) known to be sensitive or resistant to treatment with 2X-<NUM> or a pharmaceutically acceptable salt thereof and used to determine the cancer patient's responsiveness to 2X-<NUM> or a pharmaceutically acceptable salt thereof. The biomarker of SEQ ID NO: <NUM> may be used to predict responsiveness of the cancer patient to treatment with 2X-<NUM> or a pharmaceutically acceptable salt thereof in combination with one or more additional biomarker(s), including SRSF7 (SEQ ID NO:<NUM>), (e.g., one, two, three, four, five, ten, fifteen, twenty, twenty five, or all of the biomarkers shown in Tables <NUM> and/or <NUM> (e.g., the top one biomarker shown in Tables <NUM> and/or <NUM>, the top two biomarkers shown in Tables <NUM> and/or <NUM>, the top three biomarkers shown in Tables <NUM> and/or <NUM>, the top four biomarkers shown in Tables <NUM> and/or <NUM>, the top five biomarkers shown in Tables <NUM> and/or <NUM>, the top ten biomarkers shown in Tables <NUM> and/or <NUM>, the top fifteen biomarkers shown in Tables <NUM> and/or <NUM>, the top twenty biomarkers shown in Tables <NUM> and/or <NUM>, the top twenty five biomarkers shown in Tables <NUM> and/or <NUM>, or all of the biomarkers shown in Tables <NUM> and/or <NUM>)), such as biomarker(s) of SEQ ID NOs: <NUM>-<NUM>, <NUM>-<NUM>. The expression level of the biomarker(s) may be determined using, e.g., a microarray, PCR, or other techniques described herein, for example, using a nucleic acid probe sequence based on the target sequences shown in Tables <NUM> and <NUM>.\",\n",
    "    # Computer boilerplate\n",
    "    \"The communications manager <NUM>, or its sub-components, may be physically located at various positions, including being distributed such that portions of functions are implemented at different physical locations by one or more physical components. In some examples, the communications manager <NUM>, or its sub-components, may be a separate and distinct component in accordance with various aspects of the present disclosure. In some examples, the communications manager <NUM>, or its sub-components, may be combined with one or more other hardware components, including but not limited to an input/output (I/O) component, a transceiver, a network server, another computing device, one or more other components described in the present disclosure, or a combination thereof in accordance with various aspects of the present disclosure.\",\n",
    "    \"Moreover, various functions described below can be implemented or supported by one or more computer programs, each of which is formed from computer readable program code and embodied in a computer readable medium. The terms \\\"application\\\" and \\\"program\\\" refer to one or more computer programs, software components, sets of instructions, procedures, functions, objects, classes, instances, related data, or a portion thereof adapted for implementation in a suitable computer readable program code. The phrase \\\"computer readable program code\\\" includes any type of computer code, including source code, object code, and executable code. The phrase \\\"computer readable medium\\\" includes any type of medium capable of being accessed by a computer, such as read only memory (ROM), random access memory (RAM), a hard disk drive, a compact disc (CD), a digital video disc (DVD), or any other type of memory. A \\\"non-transitory\\\" computer readable medium excludes wired, wireless, optical, or other communication links that transport transitory electrical or other signals. A non-transitory computer readable medium includes media where data can be permanently stored and media where data can be stored and later overwritten, such as a rewritable optical disc or an erasable memory device.\",\n",
    "    \"The core network <NUM> may provide user authentication, access authorization, tracking, Internet Protocol (IP) connectivity, and other access, routing, or mobility functions. The core network <NUM> may be an evolved packet core (EPC), which may include at least one mobility management entity (MME), at least one serving gateway (S-GW), and at least one Packet Data Network (PDN) gateway (P-GW). The MME may manage non-access stratum (e.g., control plane) functions such as mobility, authentication, and bearer management for UEs <NUM> served by base stations <NUM> associated with the EPC. User IP packets may be transferred through the S-GW, which itself may be connected to the P-GW. The P-GW may provide IP address allocation as well as other functions. The P-GW may be connected to the network operators IP services. The operators IP services may include access to the Internet, Intranet(s), an IP Multimedia Subsystem (IMS), or a Packet-Switched (PS) Streaming Service.\",\n",
    "    \"The power management module <NUM> may manage power supplied to the electronic device <NUM>. According to one embodiment, the power management module <NUM> may be implemented as at least part of, for example, a power management integrated circuit (PMIC).\",\n",
    "    \"At least some of the above-described components may be coupled mutually and communicate signals (e.g., commands or data) therebetween via an inter-peripheral communication scheme (e.g., a bus, general purpose input and output (GPIO), serial peripheral interface (SPI), or mobile industry processor interface (MIPI)).\",\n",
    "    \"The interface <NUM> may support one or more specified protocols to be used for the electronic device <NUM> to be coupled with the external electronic device (e.g., the electronic device <NUM>) directly (e.g., wiredly) or wirelessly. According to an embodiment, the interface <NUM> may include, for example, a high definition multimedia interface (HDMI), a universal serial bus (USB) interface, a secure digital (SD) card interface, or an audio interface.\",\n",
    "    \"The program <NUM> may be stored in the memory <NUM> as software, and may include, for example, an operating system (OS) <NUM>, middleware <NUM>, or an application <NUM>.\",\n",
    "    \"At least some of the above-described components may be coupled mutually and communicate signals (e.g., commands or data) therebetween via an inter-peripheral communication scheme (e.g., a bus, general purpose input and output (GPIO), serial peripheral interface (SPI), or mobile industry processor interface (MIPI))\",\n",
    "    \"The code <NUM> may include instructions to implement aspects of the present disclosure, including instructions to support wireless communications. The code <NUM> may be stored in a non-transitory computer-readable medium such as system memory or other type of memory. In some cases, the code <NUM> may not be directly executable by the processor <NUM> but may cause a computer (e.g., when compiled and executed) to perform functions described herein.\",\n",
    "    \"The battery <NUM> may supply power to at least one component of the electronic device <NUM>. According to an embodiment, the battery <NUM> may include, for example, a primary cell which is not rechargeable, a secondary cell which is rechargeable, or a fuel cell.\",\n",
    "    \"The sensor module <NUM> may detect an operational state (e.g., power or temperature) of the electronic device <NUM> or an environmental state (e.g., a state of a user) external to the electronic device <NUM>, and then generate an electrical signal or data value corresponding to the detected state. According to an embodiment, the sensor module <NUM> may include, for example, a gesture sensor, a gyro sensor, an atmospheric pressure sensor, a magnetic sensor, an acceleration sensor, a grip sensor, a proximity sensor, a color sensor, an infrared (IR) sensor, a biometric sensor, a temperature sensor, a humidity sensor, or an illuminance sensor.\",\n",
    "    \"The computing system can include clients and servers. A client and server are generally remote from each other and typically interact through a communication network. The relationship of client and server arises by virtue of computer programs running on the respective computers and having a client-server relationship to each other.\",\n",
    "    \"Computer readable program instructions described herein can be downloaded to respective computing/processing devices from a computer readable storage medium or to an external computer or external storage device via a network, for example, the Internet, a local area network, a wide area network and/or a wireless network. The network may comprise copper transmission cables, optical transmission fibers, wireless transmission, routers, firewalls, switches, gateway computers and/or edge servers. A network adapter card or network interface in each computing/processing device receives computer readable program instructions from the network and forwards the computer readable program instructions for storage in a computer readable storage medium within the respective computing/processing device.\",\n",
    "    \"The transceiver <NUM> may communicate bi-directionally, via one or more antennas, wired, or wireless links as described above. For example, the transceiver <NUM> may represent a wireless transceiver and may communicate bi-directionally with another wireless transceiver. The transceiver <NUM> may also include a modem to modulate the packets and provide the modulated packets to the antennas for transmission, and to demodulate packets received from the antennas.\",\n",
    "    \"A connecting terminal <NUM> may include a connector via which the electronic device <NUM> may be physically connected with the external electronic device (e.g., the electronic device <NUM>). According to an embodiment, the connecting terminal <NUM> may include, for example, a HDMI connector, a USB connector, a SD card connector, or an audio connector (e.g., a headphone connector).\",\n",
    "    # Camera\n",
    "    \"The camera module <NUM> may capture a still image or moving images. According to an embodiment, the camera module <NUM> may include one or more lenses, image sensors, image signal processors, or flashes.\"\n",
    "])\n",
    "\n",
    "# ---------- Counters ----------\n",
    "total_counts = Counter()         # Total appearances across all documents\n",
    "doc_counts = Counter()           # Number of documents paragraph appears in\n",
    "\n",
    "with open(input_file, \"r\", encoding=\"utf-8\") as f:\n",
    "    for line in f:\n",
    "        doc = json.loads(line)\n",
    "        desc_paras = [p.strip() for p in doc[\"description\"].split(\"\\n\\n\") if p.strip()]\n",
    "        # Track paragraphs in this doc to count doc presence\n",
    "        seen_in_doc = set()\n",
    "        for para in desc_paras:\n",
    "            if para in blacklist:\n",
    "                continue\n",
    "            total_counts[para] += 1\n",
    "            if para not in seen_in_doc:\n",
    "                doc_counts[para] += 1\n",
    "                seen_in_doc.add(para)\n",
    "\n",
    "# ---------- Show remaining most common paragraphs ----------\n",
    "print(\"Top 50 remaining paragraphs (total count / document count):\")\n",
    "for para, _ in total_counts.most_common(50):\n",
    "    print(f\"[Total: {total_counts[para]}, Docs: {doc_counts[para]}] {para}\")  # first 200 chars"
   ]
  },
  {
   "cell_type": "markdown",
   "id": "507b77c3-d14c-406b-bdde-94cb661eab4e",
   "metadata": {},
   "source": [
    "# Automatic blacklist based on freq rule"
   ]
  },
  {
   "cell_type": "code",
   "execution_count": 1,
   "id": "0e1e93ff-38ab-4004-8374-ed34e58cf5a6",
   "metadata": {},
   "outputs": [
    {
     "name": "stdout",
     "output_type": "stream",
     "text": [
      "73986\n"
     ]
    }
   ],
   "source": [
    "import json\n",
    "from collections import Counter, defaultdict\n",
    "import numpy as np\n",
    "import matplotlib.pyplot as plt\n",
    "import seaborn as sns\n",
    "from tqdm import tqdm\n",
    "\n",
    "# -------- Parameters --------\n",
    "input_file = \"coarse_cleaned_patents_filtered_dedup_para.jsonl\"\n",
    "output_file = \"coarse_cleaned_patents_filtered_dedup_para_bp.jsonl\"\n",
    "blacklist_file = \"boilerplate_blacklist.jsonl\"\n",
    "freq_threshold = 10\n",
    "# ----------------------------\n",
    "\n",
    "# --- Count total lines first ---\n",
    "with open(input_file, \"r\", encoding=\"utf-8\") as f:\n",
    "    total_lines = sum(1 for _ in f)\n",
    "\n",
    "print(total_lines)"
   ]
  },
  {
   "cell_type": "code",
   "execution_count": 2,
   "id": "07576902-e11d-494b-8c81-820684b5069d",
   "metadata": {},
   "outputs": [
    {
     "name": "stderr",
     "output_type": "stream",
     "text": [
      "Counting paragraphs: 100%|██████████| 73986/73986 [00:25<00:00, 2858.51it/s]\n"
     ]
    }
   ],
   "source": [
    "# --- First pass: count paragraphs ---\n",
    "paragraph_counter = Counter()\n",
    "paragraph_doc_counter = defaultdict(set)\n",
    "\n",
    "with open(input_file, \"r\", encoding=\"utf-8\") as f:\n",
    "    for i, line in enumerate(tqdm(f, total=total_lines, desc=\"Counting paragraphs\")):\n",
    "        doc = json.loads(line)\n",
    "        paragraphs = [p.strip() for p in doc[\"description\"].split(\"\\n\\n\") if p.strip()]\n",
    "        paragraph_counter.update(paragraphs)\n",
    "        for p in set(paragraphs):  # unique per doc\n",
    "            paragraph_doc_counter[p].add(i)"
   ]
  },
  {
   "cell_type": "code",
   "execution_count": 3,
   "id": "782e172c-39a6-4cd6-8d72-1b1b3c766c0c",
   "metadata": {},
   "outputs": [
    {
     "name": "stdout",
     "output_type": "stream",
     "text": [
      "Blacklist size: 5433\n"
     ]
    }
   ],
   "source": [
    "# --- Build blacklist ---\n",
    "blacklist = {\n",
    "    p: {\n",
    "        \"text\": p,\n",
    "        \"total_count\": paragraph_counter[p],\n",
    "        \"doc_count\": len(paragraph_doc_counter[p])\n",
    "    }\n",
    "    for p in paragraph_counter\n",
    "    if paragraph_counter[p] >= freq_threshold\n",
    "}\n",
    "print(f\"Blacklist size: {len(blacklist)}\")"
   ]
  },
  {
   "cell_type": "code",
   "execution_count": 4,
   "id": "32a1553c-3d39-4360-8a2e-534fd6b4715b",
   "metadata": {},
   "outputs": [
    {
     "name": "stdout",
     "output_type": "stream",
     "text": [
      "Saved blacklist to boilerplate_blacklist.jsonl\n"
     ]
    }
   ],
   "source": [
    "# --- Save blacklist sorted by frequency ---\n",
    "with open(blacklist_file, \"w\", encoding=\"utf-8\") as fout:\n",
    "    for p, count in paragraph_counter.most_common():\n",
    "        if p in blacklist:\n",
    "            entry = blacklist[p]\n",
    "            fout.write(json.dumps(entry, ensure_ascii=False) + \"\\n\")\n",
    "print(f\"Saved blacklist to {blacklist_file}\")"
   ]
  },
  {
   "cell_type": "code",
   "execution_count": 5,
   "id": "1e5949e3-887f-4c8a-8a94-4fb36a74a76d",
   "metadata": {},
   "outputs": [
    {
     "name": "stderr",
     "output_type": "stream",
     "text": [
      "Filtering dataset: 100%|██████████| 73986/73986 [00:16<00:00, 4377.47it/s]\n"
     ]
    }
   ],
   "source": [
    "# --- Second pass: filter dataset ---\n",
    "filtered_records = []\n",
    "lengths = []\n",
    "\n",
    "with open(input_file, \"r\", encoding=\"utf-8\") as f:\n",
    "    for line in tqdm(f, total=total_lines, desc=\"Filtering dataset\"):\n",
    "        doc = json.loads(line)\n",
    "        paras = [\n",
    "            p for p in doc[\"description\"].split(\"\\n\\n\")\n",
    "            if p.strip() and p not in blacklist\n",
    "        ]\n",
    "        new_desc = \"\\n\\n\".join(paras).strip()\n",
    "        if new_desc or doc[\"claim1\"].strip():\n",
    "            rec = {\n",
    "                \"description\": new_desc,\n",
    "                \"claim1\": doc[\"claim1\"]\n",
    "            }\n",
    "            filtered_records.append(rec)\n",
    "            combined = (new_desc + \" \" + doc[\"claim1\"]).strip()\n",
    "            lengths.append(len(combined))"
   ]
  },
  {
   "cell_type": "code",
   "execution_count": 6,
   "id": "d22afca6-c633-4e64-8d9f-dca9bdca524b",
   "metadata": {},
   "outputs": [
    {
     "name": "stdout",
     "output_type": "stream",
     "text": [
      "Saved 73986 records to coarse_cleaned_patents_filtered_dedup_para_bp.jsonl\n"
     ]
    }
   ],
   "source": [
    "with open(output_file, \"w\", encoding=\"utf-8\") as fout:\n",
    "    for rec in filtered_records:\n",
    "        fout.write(json.dumps(rec, ensure_ascii=False) + \"\\n\")\n",
    "print(f\"Saved {len(filtered_records)} records to {output_file}\")"
   ]
  },
  {
   "cell_type": "code",
   "execution_count": 7,
   "id": "753c7534-f513-42ac-940e-7891d842a5b6",
   "metadata": {},
   "outputs": [
    {
     "data": {
      "image/png": "[encoded data removed]",
      "text/plain": [
       "<Figure size 1000x600 with 1 Axes>"
      ]
     },
     "metadata": {},
     "output_type": "display_data"
    }
   ],
   "source": [
    "# --- Plot histogram ---\n",
    "if lengths:\n",
    "    avg_chars = np.mean(lengths)\n",
    "    median_chars = np.median(lengths)\n",
    "    max_chars = max(lengths)\n",
    "\n",
    "    sns.set(style=\"whitegrid\")\n",
    "    plt.figure(figsize=(10,6))\n",
    "    sns.histplot(lengths, bins=50, kde=False)\n",
    "\n",
    "    plt.axvline(avg_chars, color=\"red\", linestyle=\"--\", linewidth=2, label=f\"Mean: {avg_chars:.0f}\")\n",
    "    plt.axvline(median_chars, color=\"green\", linestyle=\"-.\", linewidth=2, label=f\"Median: {median_chars:.0f}\")\n",
    "\n",
    "    plt.title(f\"Distribution after Step 1 (Blacklist ≥ {freq_threshold} occurrences)\")\n",
    "    plt.xlabel(\"Number of Characters\")\n",
    "    plt.ylabel(\"Number of Patents\")\n",
    "    plt.legend()\n",
    "    plt.tight_layout()\n",
    "    plt.show()\n",
    "else:\n",
    "    print(\"No valid patents left after filtering.\")"
   ]
  },
  {
   "cell_type": "code",
   "execution_count": 9,
   "id": "0456956e-e58c-44cd-90e6-bf3504af4cc3",
   "metadata": {},
   "outputs": [
    {
     "data": {
      "application/vnd.jupyter.widget-view+json": {
       "model_id": "9deeb0c1ecfd4ccab41475a6e24ff89c",
       "version_major": 2,
       "version_minor": 0
      },
      "text/plain": [
       "Calculating document lengths: 0it [00:00, ?it/s]"
      ]
     },
     "metadata": {},
     "output_type": "display_data"
    },
    {
     "name": "stdout",
     "output_type": "stream",
     "text": [
      "Documents: 73986\n",
      "Average characters: 48719\n",
      "Median characters: 43899\n",
      "Max characters: 115440\n"
     ]
    },
    {
     "data": {
      "image/png": "[encoded data removed]",
      "text/plain": [
       "<Figure size 1000x600 with 1 Axes>"
      ]
     },
     "metadata": {},
     "output_type": "display_data"
    }
   ],
   "source": [
    "import json\n",
    "from tqdm.auto import tqdm\n",
    "import numpy as np\n",
    "import matplotlib.pyplot as plt\n",
    "import seaborn as sns\n",
    "\n",
    "input_file = \"coarse_cleaned_patents_filtered_dedup_para.jsonl\"\n",
    "\n",
    "# --- Collect character lengths ---\n",
    "lengths = []\n",
    "with open(input_file, \"r\", encoding=\"utf-8\") as f:\n",
    "    for line in tqdm(f, desc=\"Calculating document lengths\"):\n",
    "        doc = json.loads(line)\n",
    "        combined_text = (doc.get(\"description\", \"\") + \" \" + doc.get(\"claim1\", \"\")).strip()\n",
    "        lengths.append(len(combined_text))\n",
    "\n",
    "# --- Stats ---\n",
    "avg_len = np.mean(lengths)\n",
    "median_len = np.median(lengths)\n",
    "max_len = max(lengths)\n",
    "\n",
    "print(f\"Documents: {len(lengths)}\")\n",
    "print(f\"Average characters: {avg_len:.0f}\")\n",
    "print(f\"Median characters: {median_len:.0f}\")\n",
    "print(f\"Max characters: {max_len}\")\n",
    "\n",
    "# --- Plot histogram ---\n",
    "sns.set(style=\"whitegrid\")\n",
    "plt.figure(figsize=(10,6))\n",
    "sns.histplot(lengths, bins=50, kde=False)\n",
    "\n",
    "plt.axvline(avg_len, color=\"red\", linestyle=\"--\", linewidth=2, label=f\"Mean: {avg_len:.0f}\")\n",
    "plt.axvline(median_len, color=\"green\", linestyle=\"-.\", linewidth=2, label=f\"Median: {median_len:.0f}\")\n",
    "\n",
    "plt.title(\"Character Length Distribution of coarse_cleaned_patents.jsonl\")\n",
    "plt.xlabel(\"Number of Characters\")\n",
    "plt.ylabel(\"Number of Documents\")\n",
    "plt.legend()\n",
    "plt.tight_layout()\n",
    "plt.show()\n"
   ]
  },
  {
   "cell_type": "markdown",
   "id": "9ac5c641-82a0-417a-98ce-9a49cc1be78c",
   "metadata": {},
   "source": [
    "Started off at around 7.5 billion characters and now approx. 3.6 billion characters (~50% reduction of noise)."
   ]
  },
  {
   "cell_type": "code",
   "execution_count": 10,
   "id": "c8c45966-df5e-4127-990b-7c351aec19d2",
   "metadata": {},
   "outputs": [
    {
     "data": {
      "application/vnd.jupyter.widget-view+json": {
       "model_id": "1d3882ece92142059912c731e839675d",
       "version_major": 2,
       "version_minor": 0
      },
      "text/plain": [
       "Generating train split: 0 examples [00:00, ? examples/s]"
      ]
     },
     "metadata": {},
     "output_type": "display_data"
    },
    {
     "data": {
      "application/vnd.jupyter.widget-view+json": {
       "model_id": "0efe1bf21de34a76bc3db01b71d6d60e",
       "version_major": 2,
       "version_minor": 0
      },
      "text/plain": [
       "Uploading the dataset shards:   0%|          | 0/8 [00:00<?, ? shards/s]"
      ]
     },
     "metadata": {},
     "output_type": "display_data"
    },
    {
     "data": {
      "application/vnd.jupyter.widget-view+json": {
       "model_id": "4337098dcabf4ba58cdada358ffac3b1",
       "version_major": 2,
       "version_minor": 0
      },
      "text/plain": [
       "Creating parquet from Arrow format:   0%|          | 0/10 [00:00<?, ?ba/s]"
      ]
     },
     "metadata": {},
     "output_type": "display_data"
    },
    {
     "data": {
      "application/vnd.jupyter.widget-view+json": {
       "model_id": "0e5279ff88d2481690ee9601a403d85e",
       "version_major": 2,
       "version_minor": 0
      },
      "text/plain": [
       "Processing Files (0 / 0)                : |          |  0.00B /  0.00B            "
      ]
     },
     "metadata": {},
     "output_type": "display_data"
    },
    {
     "data": {
      "application/vnd.jupyter.widget-view+json": {
       "model_id": "66a01c8815254847b510885fc7c2f896",
       "version_major": 2,
       "version_minor": 0
      },
      "text/plain": [
       "New Data Upload                         : |          |  0.00B /  0.00B            "
      ]
     },
     "metadata": {},
     "output_type": "display_data"
    },
    {
     "data": {
      "application/vnd.jupyter.widget-view+json": {
       "model_id": "61eb04d610b644b9a0ae5119664d34cd",
       "version_major": 2,
       "version_minor": 0
      },
      "text/plain": [
       "                                        :   0%|          |  279kB /  158MB            "
      ]
     },
     "metadata": {},
     "output_type": "display_data"
    },
    {
     "data": {
      "application/vnd.jupyter.widget-view+json": {
       "model_id": "f61186d6c44d4dc58bec67c42abb6fbb",
       "version_major": 2,
       "version_minor": 0
      },
      "text/plain": [
       "Creating parquet from Arrow format:   0%|          | 0/10 [00:00<?, ?ba/s]"
      ]
     },
     "metadata": {},
     "output_type": "display_data"
    },
    {
     "data": {
      "application/vnd.jupyter.widget-view+json": {
       "model_id": "371e417939894eb9a74e00376233f351",
       "version_major": 2,
       "version_minor": 0
      },
      "text/plain": [
       "Processing Files (0 / 0)                : |          |  0.00B /  0.00B            "
      ]
     },
     "metadata": {},
     "output_type": "display_data"
    },
    {
     "data": {
      "application/vnd.jupyter.widget-view+json": {
       "model_id": "f69db84c611c4e5c973318fefcd3f40d",
       "version_major": 2,
       "version_minor": 0
      },
      "text/plain": [
       "New Data Upload                         : |          |  0.00B /  0.00B            "
      ]
     },
     "metadata": {},
     "output_type": "display_data"
    },
    {
     "data": {
      "application/vnd.jupyter.widget-view+json": {
       "model_id": "aa2bb043010f49ea926e408004ab2323",
       "version_major": 2,
       "version_minor": 0
      },
      "text/plain": [
       "                                        :   0%|          |  733kB /  155MB            "
      ]
     },
     "metadata": {},
     "output_type": "display_data"
    },
    {
     "data": {
      "application/vnd.jupyter.widget-view+json": {
       "model_id": "b1713d60d5a043e9960d062c609fe00f",
       "version_major": 2,
       "version_minor": 0
      },
      "text/plain": [
       "Creating parquet from Arrow format:   0%|          | 0/10 [00:00<?, ?ba/s]"
      ]
     },
     "metadata": {},
     "output_type": "display_data"
    },
    {
     "data": {
      "application/vnd.jupyter.widget-view+json": {
       "model_id": "82ec8f7d749e4433817ca3cbb7258572",
       "version_major": 2,
       "version_minor": 0
      },
      "text/plain": [
       "Processing Files (0 / 0)                : |          |  0.00B /  0.00B            "
      ]
     },
     "metadata": {},
     "output_type": "display_data"
    },
    {
     "data": {
      "application/vnd.jupyter.widget-view+json": {
       "model_id": "c9eb6f8d450547b3b77687df3d5fa5dc",
       "version_major": 2,
       "version_minor": 0
      },
      "text/plain": [
       "New Data Upload                         : |          |  0.00B /  0.00B            "
      ]
     },
     "metadata": {},
     "output_type": "display_data"
    },
    {
     "data": {
      "application/vnd.jupyter.widget-view+json": {
       "model_id": "ad2f2c86957f4d31afcde52122d15075",
       "version_major": 2,
       "version_minor": 0
      },
      "text/plain": [
       "                                        :   0%|          |  411kB /  158MB            "
      ]
     },
     "metadata": {},
     "output_type": "display_data"
    },
    {
     "data": {
      "application/vnd.jupyter.widget-view+json": {
       "model_id": "c2474de3a2b9426e9db57113bb85ff04",
       "version_major": 2,
       "version_minor": 0
      },
      "text/plain": [
       "Creating parquet from Arrow format:   0%|          | 0/10 [00:00<?, ?ba/s]"
      ]
     },
     "metadata": {},
     "output_type": "display_data"
    },
    {
     "data": {
      "application/vnd.jupyter.widget-view+json": {
       "model_id": "54ef0bcaf0d944a8bee28da11b01aeec",
       "version_major": 2,
       "version_minor": 0
      },
      "text/plain": [
       "Processing Files (0 / 0)                : |          |  0.00B /  0.00B            "
      ]
     },
     "metadata": {},
     "output_type": "display_data"
    },
    {
     "data": {
      "application/vnd.jupyter.widget-view+json": {
       "model_id": "4ac5333d605f4ff6a250ce9f9e2061b5",
       "version_major": 2,
       "version_minor": 0
      },
      "text/plain": [
       "New Data Upload                         : |          |  0.00B /  0.00B            "
      ]
     },
     "metadata": {},
     "output_type": "display_data"
    },
    {
     "data": {
      "application/vnd.jupyter.widget-view+json": {
       "model_id": "c5f0a5f1427f40e093e1dcbb3977d517",
       "version_major": 2,
       "version_minor": 0
      },
      "text/plain": [
       "                                        :   0%|          |  156kB /  158MB            "
      ]
     },
     "metadata": {},
     "output_type": "display_data"
    },
    {
     "data": {
      "application/vnd.jupyter.widget-view+json": {
       "model_id": "dcd29869d3a24b749a603787024d16b2",
       "version_major": 2,
       "version_minor": 0
      },
      "text/plain": [
       "Creating parquet from Arrow format:   0%|          | 0/10 [00:00<?, ?ba/s]"
      ]
     },
     "metadata": {},
     "output_type": "display_data"
    },
    {
     "data": {
      "application/vnd.jupyter.widget-view+json": {
       "model_id": "cadf8953c0d04278b155a7d7dff949fe",
       "version_major": 2,
       "version_minor": 0
      },
      "text/plain": [
       "Processing Files (0 / 0)                : |          |  0.00B /  0.00B            "
      ]
     },
     "metadata": {},
     "output_type": "display_data"
    },
    {
     "data": {
      "application/vnd.jupyter.widget-view+json": {
       "model_id": "610ef41470e54fa6a2a69fae2e9fb307",
       "version_major": 2,
       "version_minor": 0
      },
      "text/plain": [
       "New Data Upload                         : |          |  0.00B /  0.00B            "
      ]
     },
     "metadata": {},
     "output_type": "display_data"
    },
    {
     "data": {
      "application/vnd.jupyter.widget-view+json": {
       "model_id": "16f059848783458d988c051b0fd96e2a",
       "version_major": 2,
       "version_minor": 0
      },
      "text/plain": [
       "                                        :   0%|          |  495kB /  155MB            "
      ]
     },
     "metadata": {},
     "output_type": "display_data"
    },
    {
     "data": {
      "application/vnd.jupyter.widget-view+json": {
       "model_id": "fd1790f277124e5e9cd3a375e515bc0c",
       "version_major": 2,
       "version_minor": 0
      },
      "text/plain": [
       "Creating parquet from Arrow format:   0%|          | 0/10 [00:00<?, ?ba/s]"
      ]
     },
     "metadata": {},
     "output_type": "display_data"
    },
    {
     "data": {
      "application/vnd.jupyter.widget-view+json": {
       "model_id": "863ea8a8b1a445b9b541c94664578bb1",
       "version_major": 2,
       "version_minor": 0
      },
      "text/plain": [
       "Processing Files (0 / 0)                : |          |  0.00B /  0.00B            "
      ]
     },
     "metadata": {},
     "output_type": "display_data"
    },
    {
     "data": {
      "application/vnd.jupyter.widget-view+json": {
       "model_id": "78f2fd7b044d40b9a4e32f7f901a0abc",
       "version_major": 2,
       "version_minor": 0
      },
      "text/plain": [
       "New Data Upload                         : |          |  0.00B /  0.00B            "
      ]
     },
     "metadata": {},
     "output_type": "display_data"
    },
    {
     "data": {
      "application/vnd.jupyter.widget-view+json": {
       "model_id": "2af3f41ed1b140ffa8f17843a98933ab",
       "version_major": 2,
       "version_minor": 0
      },
      "text/plain": [
       "                                        :   0%|          |  380kB /  155MB            "
      ]
     },
     "metadata": {},
     "output_type": "display_data"
    },
    {
     "data": {
      "application/vnd.jupyter.widget-view+json": {
       "model_id": "c48e5c90fd2b4ae4bf684e8320fe941f",
       "version_major": 2,
       "version_minor": 0
      },
      "text/plain": [
       "Creating parquet from Arrow format:   0%|          | 0/10 [00:00<?, ?ba/s]"
      ]
     },
     "metadata": {},
     "output_type": "display_data"
    },
    {
     "data": {
      "application/vnd.jupyter.widget-view+json": {
       "model_id": "93420f5833ce443692213257bccc3237",
       "version_major": 2,
       "version_minor": 0
      },
      "text/plain": [
       "Processing Files (0 / 0)                : |          |  0.00B /  0.00B            "
      ]
     },
     "metadata": {},
     "output_type": "display_data"
    },
    {
     "data": {
      "application/vnd.jupyter.widget-view+json": {
       "model_id": "0fc59e8da9d747d39c551e2cb67cccec",
       "version_major": 2,
       "version_minor": 0
      },
      "text/plain": [
       "New Data Upload                         : |          |  0.00B /  0.00B            "
      ]
     },
     "metadata": {},
     "output_type": "display_data"
    },
    {
     "data": {
      "application/vnd.jupyter.widget-view+json": {
       "model_id": "79aab501408a433da43a7df34bf86a92",
       "version_major": 2,
       "version_minor": 0
      },
      "text/plain": [
       "                                        :   0%|          |  597kB /  158MB            "
      ]
     },
     "metadata": {},
     "output_type": "display_data"
    },
    {
     "data": {
      "application/vnd.jupyter.widget-view+json": {
       "model_id": "269920089c21475890a978737a68649e",
       "version_major": 2,
       "version_minor": 0
      },
      "text/plain": [
       "Creating parquet from Arrow format:   0%|          | 0/10 [00:00<?, ?ba/s]"
      ]
     },
     "metadata": {},
     "output_type": "display_data"
    },
    {
     "data": {
      "application/vnd.jupyter.widget-view+json": {
       "model_id": "e2ba8c97d7aa46eab3c3c45cbbd20d14",
       "version_major": 2,
       "version_minor": 0
      },
      "text/plain": [
       "Processing Files (0 / 0)                : |          |  0.00B /  0.00B            "
      ]
     },
     "metadata": {},
     "output_type": "display_data"
    },
    {
     "data": {
      "application/vnd.jupyter.widget-view+json": {
       "model_id": "f8c4200b08d446318b47dcb3e61f8b0b",
       "version_major": 2,
       "version_minor": 0
      },
      "text/plain": [
       "New Data Upload                         : |          |  0.00B /  0.00B            "
      ]
     },
     "metadata": {},
     "output_type": "display_data"
    },
    {
     "data": {
      "application/vnd.jupyter.widget-view+json": {
       "model_id": "bc2a3e3fc6184d34a25c2970709614a4",
       "version_major": 2,
       "version_minor": 0
      },
      "text/plain": [
       "                                        :   0%|          |  586kB /  158MB            "
      ]
     },
     "metadata": {},
     "output_type": "display_data"
    },
    {
     "data": {
      "application/vnd.jupyter.widget-view+json": {
       "model_id": "230209bb124e445b8fde573fde876cac",
       "version_major": 2,
       "version_minor": 0
      },
      "text/plain": [
       "README.md: 0.00B [00:00, ?B/s]"
      ]
     },
     "metadata": {},
     "output_type": "display_data"
    },
    {
     "data": {
      "text/plain": [
       "CommitInfo(commit_url='https://huggingface.co/datasets/mhurhangee/ep-patents-coarse-cleaned/commit/5c86446b0a07635579e4b570d5dfcaed2570ace2', commit_message='with removing paragraphs which appear with a frequency of 10 or more in the corpus', commit_description='', oid='5c86446b0a07635579e4b570d5dfcaed2570ace2', pr_url=None, repo_url=RepoUrl('https://huggingface.co/datasets/mhurhangee/ep-patents-coarse-cleaned', endpoint='https://huggingface.co', repo_type='dataset', repo_id='mhurhangee/ep-patents-coarse-cleaned'), pr_revision=None, pr_num=None)"
      ]
     },
     "execution_count": 10,
     "metadata": {},
     "output_type": "execute_result"
    }
   ],
   "source": [
    "from datasets import load_dataset\n",
    "\n",
    "# Load the JSONL file\n",
    "dataset = load_dataset(\"json\", data_files=\"coarse_cleaned_patents_filtered_dedup_para_bp.jsonl\")\n",
    "\n",
    "dataset = dataset[\"train\"]\n",
    "\n",
    "# Push to Hugging Face Hub\n",
    "dataset.push_to_hub(\"mhurhangee/ep-patents-coarse-cleaned\",commit_message=\"with removing paragraphs which appear with a frequency of 10 or more in the corpus\")"
   ]
  }
 ],
 "metadata": {
  "kernelspec": {
   "display_name": "Python 3 (ipykernel)",
   "language": "python",
   "name": "python3"
  },
  "language_info": {
   "codemirror_mode": {
    "name": "ipython",
    "version": 3
   },
   "file_extension": ".py",
   "mimetype": "text/x-python",
   "name": "python",
   "nbconvert_exporter": "python",
   "pygments_lexer": "ipython3",
   "version": "3.12.10"
  }
 },
 "nbformat": 4,
 "nbformat_minor": 5
}
