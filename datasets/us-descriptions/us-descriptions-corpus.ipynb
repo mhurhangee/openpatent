{
 "cells": [
  {
   "cell_type": "markdown",
   "id": "b9c5da67-7407-4aba-a8d3-6cd4c40c1fe3",
   "metadata": {},
   "source": [
    "# US Patent Descriptions\n",
    "\n",
    "This dataset contains the **descriptions of granted US utility patents**, filtered and deduplicated.  \n",
    "The original data comes from all granted patents in 2025 up to May 20, available from [PatentsView](https://patentsview.org/download/detail_desc_text).\n",
    "\n",
    "## Splits\n",
    "- **train**: 10,000 rows for model training  \n",
    "- **validation**: 2,500 rows for validation  \n",
    "- **test**: 2,500 rows for evaluation  \n",
    "\n",
    "## Columns\n",
    "- **patent_id**: Identifier for the patent; useful for reconciling with other PatentsView datasets  \n",
    "- **description_text**: Full text of the patent description  \n",
    "- **description_length**: Character or token length of the description  \n",
    "\n",
    "## Notes\n",
    "- The dataset has been deduplicated to remove exact and near-duplicate descriptions.  \n",
    "- Use this dataset for NLP experiments, such as summarization, classification, or sentence scoring.  \n",
    "\n",
    "## Usage Example\n",
    "```python\n",
    "from datasets import load_dataset\n",
    "\n",
    "ds = load_dataset(\"mhurhangeee/us-patent-descriptions\")\n",
    "train_data = ds[\"train\"]\n",
    "```\n",
    "\n",
    "## Download from patentsview."
   ]
  },
  {
   "cell_type": "code",
   "execution_count": 1,
   "id": "af28f8cf-4746-4c36-a719-4cc15103d97f",
   "metadata": {},
   "outputs": [
    {
     "name": "stdout",
     "output_type": "stream",
     "text": [
      "total 5802252\n",
      "-rw-rw-r-- 1 jovyan users 4905978183 Apr 18 13:09 g_detail_desc_text_2025.tsv\n",
      "-rw-r--r-- 1 jovyan users 1035407488 Apr 20 15:05 g_detail_desc_text_2025.tsv.zip\n",
      "-rw-r--r-- 1 jovyan users       5280 Sep  4 20:48 plan.md\n",
      "-rw-r--r-- 1 jovyan users      94268 Sep  4 22:24 us-descriptions-corpus.ipynb\n",
      "--2025-09-04 22:25:57--  https://s3.amazonaws.com/data.patentsview.org/detail-description-text/g_detail_desc_text_2025.tsv.zip\n",
      "Resolving s3.amazonaws.com (s3.amazonaws.com)... 54.231.164.88, 52.217.81.150, 54.231.128.24, ...\n",
      "Connecting to s3.amazonaws.com (s3.amazonaws.com)|54.231.164.88|:443... connected.\n",
      "HTTP request sent, awaiting response... 200 OK\n",
      "Length: 1035407488 (987M) [binary/octet-stream]\n",
      "Saving to: ‘g_detail_desc_text_2025.tsv.zip.1’\n",
      "\n",
      "g_detail_desc_text_ 100%[===================>] 987.44M  28.9MB/s    in 35s     \n",
      "\n",
      "2025-09-04 22:26:33 (28.4 MB/s) - ‘g_detail_desc_text_2025.tsv.zip.1’ saved [1035407488/1035407488]\n",
      "\n"
     ]
    }
   ],
   "source": [
    "!ls -l\n",
    "!wget https://s3.amazonaws.com/data.patentsview.org/detail-description-text/g_detail_desc_text_2025.tsv.zip"
   ]
  },
  {
   "cell_type": "markdown",
   "id": "e5b34cdd-603b-4bc8-97cb-b26c7b335188",
   "metadata": {},
   "source": [
    "## Extract"
   ]
  },
  {
   "cell_type": "code",
   "execution_count": 2,
   "id": "287eb791-7a97-439e-b701-4f7c970ad011",
   "metadata": {},
   "outputs": [
    {
     "name": "stdout",
     "output_type": "stream",
     "text": [
      "Archive:  g_detail_desc_text_2025.tsv.zip\n",
      "replace g_detail_desc_text_2025.tsv? [y]es, [n]o, [A]ll, [N]one, [r]ename: ^C\n"
     ]
    }
   ],
   "source": [
    "!unzip g_detail_desc_text_2025.tsv.zip"
   ]
  },
  {
   "cell_type": "markdown",
   "id": "6dae5a77-fa8f-4d8f-967f-a657adf79b8c",
   "metadata": {},
   "source": [
    "## Turn to DF"
   ]
  },
  {
   "cell_type": "code",
   "execution_count": 20,
   "id": "a44fc288-ce03-4e78-adc6-e0422974751f",
   "metadata": {},
   "outputs": [
    {
     "name": "stdout",
     "output_type": "stream",
     "text": [
      "       patent_id                                   description_text  \\\n",
      "0       12185648  DESCRIPTION OF PREFERRED EMBODIMENT\\n\\nIt is t...   \n",
      "1       12185649  DETAILED DESCRIPTION OF THE PREFERRED EMBODIME...   \n",
      "2       12185650  Repeat use of reference characters in the pres...   \n",
      "3       12185651  Repeat use of reference characters in the pres...   \n",
      "4       12185652  DETAILED DESCRIPTION\\n\\nTerms used herein are ...   \n",
      "...          ...                                                ...   \n",
      "76263   12262646  DETAILED DESCRIPTION\\n\\nReferring toFIGS.1-6,F...   \n",
      "76264   12262647  DETAILED DESCRIPTION\\n\\nReferring toFIGS.1-6,F...   \n",
      "76265   12262648  DETAILED DESCRIPTION\\n\\nVarious example embodi...   \n",
      "76266   12262649  DETAILED DESCRIPTION\\n\\nLike features have bee...   \n",
      "76267   12262650  DESCRIPTION OF THE EMBODIMENTS\\n\\nFor ease of ...   \n",
      "\n",
      "       description_length  \n",
      "0                    7312  \n",
      "1                   64014  \n",
      "2                   35054  \n",
      "3                   39233  \n",
      "4                   25500  \n",
      "...                   ...  \n",
      "76263               18309  \n",
      "76264               20029  \n",
      "76265               39275  \n",
      "76266               31177  \n",
      "76267               10484  \n",
      "\n",
      "[76268 rows x 3 columns]\n"
     ]
    }
   ],
   "source": [
    "import pandas as pd\n",
    "\n",
    "file_path = 'g_detail_desc_text_2025.tsv'\n",
    "\n",
    "df = pd.read_csv(file_path, sep='\\t')\n",
    "\n",
    "print(df)\n"
   ]
  },
  {
   "cell_type": "code",
   "execution_count": 21,
   "id": "8bd3efb5-6da7-42a6-adb9-014fc1758470",
   "metadata": {},
   "outputs": [
    {
     "name": "stdout",
     "output_type": "stream",
     "text": [
      "(76268, 3)\n"
     ]
    }
   ],
   "source": [
    "print(df.shape) "
   ]
  },
  {
   "cell_type": "markdown",
   "id": "3d12536e-bce6-4943-b164-28002ceaa439",
   "metadata": {},
   "source": [
    "# Length distribution"
   ]
  },
  {
   "cell_type": "code",
   "execution_count": 22,
   "id": "90804ec0-edee-4ab8-ab18-b34a25409eaa",
   "metadata": {},
   "outputs": [
    {
     "data": {
      "image/png": "[encoded data removed]",
      "text/plain": [
       "<Figure size 640x480 with 1 Axes>"
      ]
     },
     "metadata": {},
     "output_type": "display_data"
    }
   ],
   "source": [
    "import seaborn as sns\n",
    "import matplotlib.pyplot as plt\n",
    "\n",
    "# Plot histogram\n",
    "sns.histplot(df['description_length'], bins=50, kde=True)  # kde=True adds a density curve\n",
    "\n",
    "# Labels and title\n",
    "plt.xlabel('Description Length')\n",
    "plt.ylabel('Count')\n",
    "plt.title('Histogram of Description Lengths')\n",
    "\n",
    "# Show plot\n",
    "plt.show()\n"
   ]
  },
  {
   "cell_type": "markdown",
   "id": "5846a334-8cd1-4c2b-a1c1-1ae769b3872e",
   "metadata": {},
   "source": [
    "## Remove some of the tails"
   ]
  },
  {
   "cell_type": "code",
   "execution_count": 23,
   "id": "5bb46b55-d956-4464-b06a-302a0fc1e627",
   "metadata": {},
   "outputs": [
    {
     "name": "stdout",
     "output_type": "stream",
     "text": [
      "(71691, 3)\n"
     ]
    },
    {
     "data": {
      "image/png": "[encoded data removed]",
      "text/plain": [
       "<Figure size 1000x600 with 1 Axes>"
      ]
     },
     "metadata": {},
     "output_type": "display_data"
    }
   ],
   "source": [
    "import seaborn as sns\n",
    "import matplotlib.pyplot as plt\n",
    "\n",
    "upper_limit = df['description_length'].quantile(0.95)\n",
    "lower_limit = df['description_length'].quantile(0.01)\n",
    "\n",
    "# Filter dataframe\n",
    "df = df[(df['description_length'] >= lower_limit) & (df['description_length'] <= upper_limit)]\n",
    "print(df.shape)\n",
    "\n",
    "# Compute mean and median\n",
    "mean_val = df['description_length'].mean()\n",
    "median_val = df['description_length'].median()\n",
    "\n",
    "# Plot histogram\n",
    "plt.figure(figsize=(10, 6))\n",
    "sns.histplot(df['description_length'], bins=50, kde=False)\n",
    "\n",
    "# Add vertical lines\n",
    "plt.axvline(mean_val, color='red', linestyle='--', label=f'Mean: {mean_val:.0f}')\n",
    "plt.axvline(median_val, color='green', linestyle='--', label=f'Median: {median_val:.0f}')\n",
    "\n",
    "# Labels and title\n",
    "plt.xlabel('Description Length')\n",
    "plt.ylabel('Count')\n",
    "plt.title('Histogram of Description Lengths (1st to 95th percentile)')\n",
    "plt.legend()\n",
    "plt.show()"
   ]
  },
  {
   "cell_type": "markdown",
   "id": "181ed6ac-5031-4d6a-b113-b5baf2e97f74",
   "metadata": {},
   "source": [
    "## Remove exact duplicates\n",
    "Likely continuations. Further dedupe probably needed."
   ]
  },
  {
   "cell_type": "code",
   "execution_count": 24,
   "id": "13e55e56-195f-428e-ace3-63cd432fed62",
   "metadata": {},
   "outputs": [
    {
     "name": "stdout",
     "output_type": "stream",
     "text": [
      "71538\n"
     ]
    }
   ],
   "source": [
    "df = df.drop_duplicates(subset='description_text').reset_index(drop=True)\n",
    "print(len(df))"
   ]
  },
  {
   "cell_type": "markdown",
   "id": "a3cb33b2-c1e2-411c-af77-6bd567f0db50",
   "metadata": {},
   "source": [
    "# Remove near duplicates"
   ]
  },
  {
   "cell_type": "code",
   "execution_count": 25,
   "id": "14d45600-ff87-4863-9297-9ad4bbaa35c0",
   "metadata": {},
   "outputs": [],
   "source": [
    "!pip install datasketch -q"
   ]
  },
  {
   "cell_type": "code",
   "execution_count": 26,
   "id": "3fc8edae-8329-4cb0-be33-4635c8c13b14",
   "metadata": {},
   "outputs": [],
   "source": [
    "df = df.sample(frac=1, random_state=42).reset_index(drop=True)"
   ]
  },
  {
   "cell_type": "code",
   "execution_count": 27,
   "id": "4cbfbc03-b0b1-47d1-a641-1e2fa8c9c342",
   "metadata": {},
   "outputs": [],
   "source": [
    "df = df.iloc[:20000]"
   ]
  },
  {
   "cell_type": "code",
   "execution_count": 28,
   "id": "03322675-f95f-40f1-b7eb-77843be13db2",
   "metadata": {},
   "outputs": [
    {
     "name": "stdout",
     "output_type": "stream",
     "text": [
      "df shape: (19878, 3)\n"
     ]
    }
   ],
   "source": [
    "from datasketch import MinHash, MinHashLSH\n",
    "\n",
    "# Parameters\n",
    "num_perm = 128         # Number of hash functions\n",
    "threshold = 0.85       # Similarity threshold for duplicates\n",
    "shingle_size = 5       # Number of words per shingle\n",
    "\n",
    "# Build LSH index\n",
    "lsh = MinHashLSH(threshold=threshold, num_perm=num_perm)\n",
    "\n",
    "# Keep track of representative rows\n",
    "unique_indices = []\n",
    "\n",
    "# Precompute MinHashes\n",
    "minhashes = []\n",
    "\n",
    "for i, text in enumerate(df['description_text']):\n",
    "    shingles = set(text.split())  # Or use more sophisticated n-grams\n",
    "    m = MinHash(num_perm=num_perm)\n",
    "    for shingle in shingles:\n",
    "        m.update(shingle.encode('utf8'))\n",
    "    minhashes.append(m)\n",
    "\n",
    "# Insert into LSH and filter\n",
    "for i, m in enumerate(minhashes):\n",
    "    # Check if any existing item in LSH is similar\n",
    "    if lsh.query(m):\n",
    "        continue  # Skip as near-duplicate\n",
    "    else:\n",
    "        lsh.insert(f\"m{i}\", m)\n",
    "        unique_indices.append(i)\n",
    "\n",
    "# Create f3_df\n",
    "df = df.iloc[unique_indices].reset_index(drop=True)\n",
    "\n",
    "print(f\"df shape: {df.shape}\")\n"
   ]
  },
  {
   "cell_type": "code",
   "execution_count": 29,
   "id": "00cea01e-e7d4-464d-8517-df4a52483d15",
   "metadata": {},
   "outputs": [
    {
     "data": {
      "text/plain": [
       "178924"
      ]
     },
     "execution_count": 29,
     "metadata": {},
     "output_type": "execute_result"
    }
   ],
   "source": [
    "import gc\n",
    "\n",
    "del minhashes, unique_indices, lsh\n",
    "gc.collect()"
   ]
  },
  {
   "cell_type": "markdown",
   "id": "b847e4dd-0606-405e-b9f3-cd5d38ea25b9",
   "metadata": {},
   "source": [
    "# Shuffle"
   ]
  },
  {
   "cell_type": "code",
   "execution_count": 30,
   "id": "b686f015-65d1-44d9-b92d-657b5a484139",
   "metadata": {},
   "outputs": [],
   "source": [
    "train_size = 10000\n",
    "val_size   = 2500\n",
    "test_size  = 2500\n",
    "\n",
    "train_df = df.iloc[:train_size]\n",
    "val_df   = df.iloc[train_size:train_size + val_size]\n",
    "test_df  = df.iloc[train_size + val_size:train_size + val_size + test_size]"
   ]
  },
  {
   "cell_type": "code",
   "execution_count": 32,
   "id": "cec9cb0b-0b58-4971-b559-908d97c5e052",
   "metadata": {},
   "outputs": [
    {
     "name": "stdout",
     "output_type": "stream",
     "text": [
      "10000 2500 2500\n"
     ]
    }
   ],
   "source": [
    "print(len(train_df), len(val_df), len(test_df))"
   ]
  },
  {
   "cell_type": "markdown",
   "id": "97ec0784-5469-4ac9-b9dc-ec2ab416b8e4",
   "metadata": {},
   "source": [
    "# Upload to HF"
   ]
  },
  {
   "cell_type": "code",
   "execution_count": 33,
   "id": "7aaedb09-469f-4029-83b1-942bff470193",
   "metadata": {},
   "outputs": [
    {
     "name": "stdout",
     "output_type": "stream",
     "text": [
      "Note: you may need to restart the kernel to use updated packages.\n"
     ]
    }
   ],
   "source": [
    "%pip install datasets -q"
   ]
  },
  {
   "cell_type": "code",
   "execution_count": 34,
   "id": "435fd501-dc1c-4915-bbec-9f808efd9857",
   "metadata": {},
   "outputs": [],
   "source": [
    "from datasets import Dataset, DatasetDict\n",
    "\n",
    "train_ds = Dataset.from_pandas(train_df)\n",
    "val_ds   = Dataset.from_pandas(val_df)\n",
    "test_ds  = Dataset.from_pandas(test_df)\n",
    "\n",
    "hf_ds = DatasetDict({\n",
    "    \"train\": train_ds,\n",
    "    \"validation\": val_ds,\n",
    "    \"test\": test_ds,\n",
    "})"
   ]
  },
  {
   "cell_type": "code",
   "execution_count": 35,
   "id": "9488422c-850f-4b5d-8c2a-6a3fde61748d",
   "metadata": {},
   "outputs": [
    {
     "data": {
      "application/vnd.jupyter.widget-view+json": {
       "model_id": "b3c342f3019640deabaf81fb1874592e",
       "version_major": 2,
       "version_minor": 0
      },
      "text/plain": [
       "VBox(children=(HTML(value='<center> <img\\nsrc=https://huggingface.co/front/assets/huggingface_logo-noborder.sv…"
      ]
     },
     "metadata": {},
     "output_type": "display_data"
    }
   ],
   "source": [
    "from huggingface_hub import notebook_login\n",
    "\n",
    "notebook_login()"
   ]
  },
  {
   "cell_type": "code",
   "execution_count": 37,
   "id": "0d3cd44d-70a3-45e1-b019-ff8151f534f0",
   "metadata": {},
   "outputs": [
    {
     "data": {
      "application/vnd.jupyter.widget-view+json": {
       "model_id": "feedd193d45d4a0ab30dc5c460563480",
       "version_major": 2,
       "version_minor": 0
      },
      "text/plain": [
       "Uploading the dataset shards:   0%|          | 0/2 [00:00<?, ? shards/s]"
      ]
     },
     "metadata": {},
     "output_type": "display_data"
    },
    {
     "data": {
      "application/vnd.jupyter.widget-view+json": {
       "model_id": "a053f8fe81bf477da1a0093828273ddd",
       "version_major": 2,
       "version_minor": 0
      },
      "text/plain": [
       "Creating parquet from Arrow format:   0%|          | 0/5 [00:00<?, ?ba/s]"
      ]
     },
     "metadata": {},
     "output_type": "display_data"
    },
    {
     "data": {
      "application/vnd.jupyter.widget-view+json": {
       "model_id": "8f79de1e59644cc680cf489dff8fa89c",
       "version_major": 2,
       "version_minor": 0
      },
      "text/plain": [
       "Processing Files (0 / 0)                : |          |  0.00B /  0.00B            "
      ]
     },
     "metadata": {},
     "output_type": "display_data"
    },
    {
     "data": {
      "application/vnd.jupyter.widget-view+json": {
       "model_id": "e68a973d3d794418bc3052d007d08abf",
       "version_major": 2,
       "version_minor": 0
      },
      "text/plain": [
       "New Data Upload                         : |          |  0.00B /  0.00B            "
      ]
     },
     "metadata": {},
     "output_type": "display_data"
    },
    {
     "data": {
      "application/vnd.jupyter.widget-view+json": {
       "model_id": "d6765e14d5f34ccba4b327fdc2371d8e",
       "version_major": 2,
       "version_minor": 0
      },
      "text/plain": [
       "                                        :   1%|          |  524kB / 94.8MB            "
      ]
     },
     "metadata": {},
     "output_type": "display_data"
    },
    {
     "data": {
      "application/vnd.jupyter.widget-view+json": {
       "model_id": "0026c3c07ed34b61b2de4ac704463900",
       "version_major": 2,
       "version_minor": 0
      },
      "text/plain": [
       "Creating parquet from Arrow format:   0%|          | 0/5 [00:00<?, ?ba/s]"
      ]
     },
     "metadata": {},
     "output_type": "display_data"
    },
    {
     "data": {
      "application/vnd.jupyter.widget-view+json": {
       "model_id": "59e1f56a4ecc454abd0ee7989b3eb252",
       "version_major": 2,
       "version_minor": 0
      },
      "text/plain": [
       "Processing Files (0 / 0)                : |          |  0.00B /  0.00B            "
      ]
     },
     "metadata": {},
     "output_type": "display_data"
    },
    {
     "data": {
      "application/vnd.jupyter.widget-view+json": {
       "model_id": "d9d1cac7032043e599fdc6f30592c1df",
       "version_major": 2,
       "version_minor": 0
      },
      "text/plain": [
       "New Data Upload                         : |          |  0.00B /  0.00B            "
      ]
     },
     "metadata": {},
     "output_type": "display_data"
    },
    {
     "data": {
      "application/vnd.jupyter.widget-view+json": {
       "model_id": "9e41e00212b448559bc1bbfd590c35f8",
       "version_major": 2,
       "version_minor": 0
      },
      "text/plain": [
       "                                        :   8%|7         | 7.34MB / 92.6MB            "
      ]
     },
     "metadata": {},
     "output_type": "display_data"
    },
    {
     "data": {
      "application/vnd.jupyter.widget-view+json": {
       "model_id": "af66fbf6ab2b4020934faf595265041d",
       "version_major": 2,
       "version_minor": 0
      },
      "text/plain": [
       "Uploading the dataset shards:   0%|          | 0/1 [00:00<?, ? shards/s]"
      ]
     },
     "metadata": {},
     "output_type": "display_data"
    },
    {
     "data": {
      "application/vnd.jupyter.widget-view+json": {
       "model_id": "04154e664fc74e0aae6c6441c780c9db",
       "version_major": 2,
       "version_minor": 0
      },
      "text/plain": [
       "Creating parquet from Arrow format:   0%|          | 0/3 [00:00<?, ?ba/s]"
      ]
     },
     "metadata": {},
     "output_type": "display_data"
    },
    {
     "data": {
      "application/vnd.jupyter.widget-view+json": {
       "model_id": "8c18d2d995b74a0792cbd4197d9f4f18",
       "version_major": 2,
       "version_minor": 0
      },
      "text/plain": [
       "Processing Files (0 / 0)                : |          |  0.00B /  0.00B            "
      ]
     },
     "metadata": {},
     "output_type": "display_data"
    },
    {
     "data": {
      "application/vnd.jupyter.widget-view+json": {
       "model_id": "bde75c66959c4d7e93bb947054088eba",
       "version_major": 2,
       "version_minor": 0
      },
      "text/plain": [
       "New Data Upload                         : |          |  0.00B /  0.00B            "
      ]
     },
     "metadata": {},
     "output_type": "display_data"
    },
    {
     "data": {
      "application/vnd.jupyter.widget-view+json": {
       "model_id": "4517852175e74afa9a89ca11d8c9724b",
       "version_major": 2,
       "version_minor": 0
      },
      "text/plain": [
       "                                        :   8%|7         | 3.67MB / 47.3MB            "
      ]
     },
     "metadata": {},
     "output_type": "display_data"
    },
    {
     "data": {
      "application/vnd.jupyter.widget-view+json": {
       "model_id": "43b4e9b8eec4411da5ee2c5d99589bd5",
       "version_major": 2,
       "version_minor": 0
      },
      "text/plain": [
       "Uploading the dataset shards:   0%|          | 0/1 [00:00<?, ? shards/s]"
      ]
     },
     "metadata": {},
     "output_type": "display_data"
    },
    {
     "data": {
      "application/vnd.jupyter.widget-view+json": {
       "model_id": "b1c55532fb0d4de68a210f9e8b23e8cd",
       "version_major": 2,
       "version_minor": 0
      },
      "text/plain": [
       "Creating parquet from Arrow format:   0%|          | 0/3 [00:00<?, ?ba/s]"
      ]
     },
     "metadata": {},
     "output_type": "display_data"
    },
    {
     "data": {
      "application/vnd.jupyter.widget-view+json": {
       "model_id": "ded59f666ce74cd2a0438cef66c8f3dd",
       "version_major": 2,
       "version_minor": 0
      },
      "text/plain": [
       "Processing Files (0 / 0)                : |          |  0.00B /  0.00B            "
      ]
     },
     "metadata": {},
     "output_type": "display_data"
    },
    {
     "data": {
      "application/vnd.jupyter.widget-view+json": {
       "model_id": "e7ea95580512446c88bf42473aa3b0e0",
       "version_major": 2,
       "version_minor": 0
      },
      "text/plain": [
       "New Data Upload                         : |          |  0.00B /  0.00B            "
      ]
     },
     "metadata": {},
     "output_type": "display_data"
    },
    {
     "data": {
      "application/vnd.jupyter.widget-view+json": {
       "model_id": "599c560b86f74eab91f3fafba51d5892",
       "version_major": 2,
       "version_minor": 0
      },
      "text/plain": [
       "                                        :   8%|7         | 3.67MB / 46.3MB            "
      ]
     },
     "metadata": {},
     "output_type": "display_data"
    },
    {
     "data": {
      "text/plain": [
       "CommitInfo(commit_url='https://huggingface.co/datasets/mhurhangee/us-patent-descriptions/commit/8995be855caea1eaba860c24fb6b89dfcb0a627e', commit_message='Upload dataset', commit_description='', oid='8995be855caea1eaba860c24fb6b89dfcb0a627e', pr_url=None, repo_url=RepoUrl('https://huggingface.co/datasets/mhurhangee/us-patent-descriptions', endpoint='https://huggingface.co', repo_type='dataset', repo_id='mhurhangee/us-patent-descriptions'), pr_revision=None, pr_num=None)"
      ]
     },
     "execution_count": 37,
     "metadata": {},
     "output_type": "execute_result"
    }
   ],
   "source": [
    "hf_ds.push_to_hub(\n",
    "    \"mhurhangee/us-patent-descriptions\"\n",
    ")\n"
   ]
  }
 ],
 "metadata": {
  "kernelspec": {
   "display_name": "Python 3 (ipykernel)",
   "language": "python",
   "name": "python3"
  },
  "language_info": {
   "codemirror_mode": {
    "name": "ipython",
    "version": 3
   },
   "file_extension": ".py",
   "mimetype": "text/x-python",
   "name": "python",
   "nbconvert_exporter": "python",
   "pygments_lexer": "ipython3",
   "version": "3.12.10"
  }
 },
 "nbformat": 4,
 "nbformat_minor": 5
}
