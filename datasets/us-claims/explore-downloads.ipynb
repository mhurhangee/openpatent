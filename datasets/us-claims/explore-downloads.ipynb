{
 "cells": [
  {
   "cell_type": "code",
   "execution_count": null,
   "id": "7b6abbee",
   "metadata": {},
   "outputs": [],
   "source": [
    "import pandas as pd\n",
    "\n",
    "# Replace 'your_file.tsv' with your TSV file path\n",
    "file_path = 'your_file.tsv'\n",
    "\n",
    "# Read only the first 5 lines\n",
    "df_preview = pd.read_csv(file_path, sep='\\t', nrows=5)\n",
    "\n",
    "# Display the DataFrame\n",
    "print(df_preview)\n"
   ]
  }
 ],
 "metadata": {
  "language_info": {
   "name": "python"
  }
 },
 "nbformat": 4,
 "nbformat_minor": 5
}
